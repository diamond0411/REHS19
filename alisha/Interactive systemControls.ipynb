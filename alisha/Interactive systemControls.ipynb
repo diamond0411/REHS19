{
 "cells": [
  {
   "cell_type": "markdown",
   "metadata": {},
   "source": [
    "# Basic Comet Commands \n",
    "\n",
    "This is a tutorial on the usage of terminal commands when using Comet\n",
    "\n",
    "To learn about the Comet's technical summary, go to https://www.sdsc.edu/support/user_guides/comet.html#access \n",
    "\n",
    "<span style=\"color:red\"> **Note: This is an instructional document. It is not interactive**</span>\n",
    "\n",
    "\n",
    "<a name=\"top\">Contents:\n",
    "    \n",
    "* [Terminal Application](#terminal)\n",
    "\n",
    "* [Logging Onto Comet](#logging-on)\n",
    "    \n",
    "    *[Unix](#unix-mac)\n",
    "    \n",
    "    *[Mac OS](#unix-mac)\n",
    "    \n",
    "    *[Windows](#windows)\n",
    "    \n",
    "    *[JupyterLab](#jupyter-lab)\n",
    "    \n",
    "    *[Why SSH Login](#ssh)\n",
    "    \n",
    "* [Getting Domain Name and Host Information](#domain-host)\n",
    "\n",
    "* [Who is on the Computer](#who)\n",
    "    \n",
    "* [IP Address](#IP)\n",
    "    \n",
    "* [Directory Commands](#directory)\n",
    "    \n",
    "*[pwd Command](#pwd)\n",
    "    \n",
    "*[mkdir Command](#mkdir)\n",
    "    \n",
    "*[ls -al Command](#ls)\n",
    "    \n",
    "*[cd Command](#cd)\n",
    "    \n",
    "*[cd ../ Command](#cd-2)\n",
    "       \n",
    "* [Modules](#modules)\n",
    "\n",
    "*[Loading Module](#load)\n",
    "    \n",
    "*[Bash/C shell Script](#bash-cshell)\n",
    "        \n",
    "*[Listing Modules](#list)\n",
    "        \n",
    "*[Deleting All Modules](#purge)\n",
    "        \n",
    "*[Avaliable Modules](#avail)\n",
    "    \n",
    "*[Module Display Command](#display)\n",
    "        \n",
    "*[Swapping Modules](#swap)\n",
    "        \n",
    "*[Unloading Modules](#unload)\n",
    "\n",
    "*[Compilers](#compilers)\n",
    "        \n",
    "*[PGI Compilers](#pgi)\n",
    "        \n",
    "*[GNU Compilers](#gnu)\n",
    "    \n",
    "    \n",
    "[Back To Top](#top)\n",
    "<hr>\n",
    "\n",
    "## <a name=\"terminal\"></a>Terminal Application\n",
    "\n",
    "To connect to Comet, you will be using the Terminal Application for Mac user or the Commands prompt for Window users. The terminal applications are used to connect clients (you and your laptop) to remote computers (such as Comet). See https://en.wikipedia.org/wiki/Secure_Shell for more information. The best known example of using a terminal is for logging in/connecting to a remote computer systems by users. This is called a client-server connection. Terminals are interactive: you type in a command to run, and the outputs are displayed on the terminal. Executing any command is done by typing it and pressing Enter.\n",
    "\n",
    "<img src=\"./Images/ssh-login-comet.png\" alt=\"Comet SSH Login \" width=\"400px\"  align=\"left\"/>\n",
    "\n",
    "\n",
    "\n",
    "    "
   ]
  },
  {
   "cell_type": "markdown",
   "metadata": {},
   "source": [
    "[Back To Top](#top)\n",
    "<hr>\n",
    "\n",
    "## <a name=\"loggin-on\"></a>Logging On\n",
    "\n",
    "\n",
    "You should have gotten email for the Institute staff welcoming you to the Institute, with instructions about how to obtain your account information (the username and password). If you did not recieve these instructions or have forgotten your password, please contact us at <consult@sdsc.edu>\n",
    "\n",
    "Notes: \n",
    "* The way to log on depends the computer that you are using\n",
    "* The domain name for Comet is comet.sdsc.edu\n",
    "\n",
    "### <a name=\"unix-mac\"></a>Unix or Mac OS:\n",
    "\n",
    "* open up terminal window and sign on using the ssh connection with the command below\n",
    "    \n",
    "    ssh username@comet.sdsc.edu \n",
    "    \n",
    " ### <a name=\"windows\"></a>Windows:\n",
    "For Window users, you will need to run an X Server and an ssh-like client. Cygwin provides a comprehensive Linux-like environment and an X server (Cygwin/X). Putty will also work for direct access to Comet, it is only used for file transfers. For download and installation instructions, see: \n",
    "\n",
    "http://www.cygwin.com/\n",
    "\n",
    "http://x.cygwin.com/\n",
    "\n",
    "https://www.putty.org/\n",
    "\n",
    "\n",
    "* Putty: log in using your username and password\n",
    "* cygwin: open a cygwin window and sign on using the command below\n",
    "\n",
    "    ```\n",
    "    ssh username@comet.sdsc.edu \n",
    "    ```\n",
    "\n",
    "    \n",
    "### <a name=\"jupyter-lab\"></a>JupyterLab:\n",
    "\n",
    "* open a terminal window in JupyterLab and use the ssh command above\n",
    "\n",
    "### Once you are logged onto Comet, you will see this in your terminal window\n",
    "\n",
    "* Once you enter your password, you will be assigned one of the four login nodes comet-ln[1-4].sdsc.edu\n",
    "\n",
    "\n",
    "<img src=\"./Images/comet-login.png\" alt=\"Comet Login\" width=\"400px\"  align=\"left\"/>"
   ]
  },
  {
   "cell_type": "markdown",
   "metadata": {},
   "source": [
    "Now, log onto Comet using your username in the cell below..."
   ]
  },
  {
   "cell_type": "code",
   "execution_count": null,
   "metadata": {
    "scrolled": true
   },
   "outputs": [],
   "source": [
    "ssh username@comet.sdsc.edu"
   ]
  },
  {
   "cell_type": "markdown",
   "metadata": {},
   "source": [
    "##### <a name=\"ssh\"></a>Why SSH Login\n",
    "SSH provides a secure channel over any network in a client-server architecture. You will be using your laptop to access SDSC’s HPC systems using the secure shell command ssh. It is essential that you be able to run secure shell (or a similar connection tool) with X11 forwarding enabled, which allows you to have data encryption and to launch windows applications (e.g. plotting, or a browser).\n",
    "\n",
    "[Back To Top](#top)\n",
    "<hr>\n",
    "\n",
    "## <a name=\"domain-host\"></a>Getting Domain Name and Host Information\n",
    "\n",
    "### <a name=\"#who\"></a>Who in on the Computer:\n",
    "\n"
   ]
  },
  {
   "cell_type": "code",
   "execution_count": null,
   "metadata": {},
   "outputs": [],
   "source": [
    "whoami"
   ]
  },
  {
   "cell_type": "markdown",
   "metadata": {},
   "source": [
    "* This displays the username of the current user\n",
    "\n",
    "### <a name=\"#IP\"></a>IP Address:\n",
    "\n",
    "Each machine you work with will have a domain_name, hostname or ip_address. You can learn about IP addresses and domain names here: https://computer.howstuffworks.com/dns.htm.\n",
    "\n",
    "You may need to know the physical IP address of the cluster\n",
    "\n"
   ]
  },
  {
   "cell_type": "code",
   "execution_count": null,
   "metadata": {},
   "outputs": [],
   "source": [
    "nslookup comet.sdsc.edu"
   ]
  },
  {
   "cell_type": "markdown",
   "metadata": {},
   "source": [
    "The IP address is the line labeled \"Address\" and for Comet there are two. You can log onto Comet using either the DN or the IP addresses.\n",
    "\n",
    "\n",
    "[Back To Top](#top)\n",
    "<hr>\n",
    "\n",
    "## <a name=\"directory\"></a>Directory Commands\n",
    "\n",
    "A directory is a location where you can store files in. An example of a directory is a folder on your desktop. These commands will teach you how to deal with directories from the command line.\n",
    "\n",
    "\n",
    "### <a name=\"pwd\"></a>pwd Command\n",
    "\n",
    "The pwd command mean 'print working directory'. This tells you the directory that you are currently in\n",
    "\n"
   ]
  },
  {
   "cell_type": "code",
   "execution_count": null,
   "metadata": {},
   "outputs": [],
   "source": [
    "pwd"
   ]
  },
  {
   "cell_type": "markdown",
   "metadata": {},
   "source": [
    "### <a name=\"mkdir\"></a>mkdir Command"
   ]
  },
  {
   "cell_type": "code",
   "execution_count": null,
   "metadata": {},
   "outputs": [],
   "source": [
    "mkdir <directory_name>"
   ]
  },
  {
   "cell_type": "markdown",
   "metadata": {},
   "source": [
    "This creates a directory where you can: \n",
    "* store code.\n",
    "* clone github repositories on (to learn how to do this, refer to the github tutorial notebook)\n",
    "\n",
    "\n",
    "\n",
    "### <a name=\"ls\"></a>ls -al Command\n",
    "\n"
   ]
  },
  {
   "cell_type": "code",
   "execution_count": null,
   "metadata": {},
   "outputs": [],
   "source": [
    "ls -al"
   ]
  },
  {
   "cell_type": "markdown",
   "metadata": {},
   "source": [
    "This lists all the files inside the directory, including the type, the date, the ownership, and name of directory entry. This command is the most helpful if you want to see your created directories. \n",
    "\n",
    "You can find your directory created by the step above this when you execute ls -al as well as the information that goes with it.\n",
    "\n",
    "### <a name=\"cd\"></a>cd Command\n",
    "\n",
    "Replace <directory_name> with a name for a directory"
   ]
  },
  {
   "cell_type": "code",
   "execution_count": null,
   "metadata": {},
   "outputs": [],
   "source": [
    "cd <directory_name>"
   ]
  },
  {
   "cell_type": "markdown",
   "metadata": {},
   "source": [
    "This allows you to go inside the directory to add or create files inside the directory\n",
    "\n",
    "\n",
    "Rather than typing the directory name out, a shortcut is to type\n",
    "cd, the first few letters of the directory/file name, and hit tab on your keyboard. This will automatically put the file name on the command line\n",
    "\n",
    "#### <a name=\"cd-2\"></a>cd ../\n",
    "\n",
    "cd ../ allow you to get out of a file or a directory\n",
    "\n"
   ]
  },
  {
   "cell_type": "code",
   "execution_count": null,
   "metadata": {},
   "outputs": [],
   "source": [
    "cd ../"
   ]
  },
  {
   "cell_type": "markdown",
   "metadata": {},
   "source": [
    "The command ../ can be put multiple times depending on how far you are in a directory or where you want to go.\n",
    "\n",
    "\n",
    "\n",
    "[Back To Top](#top)\n",
    "<hr>\n",
    "\n",
    "\n",
    "## <a name=\"modules\"></a> Modules\n",
    "\n",
    "The Environment Modules package provides for dynamic modification of your shell environment. Module commands set, change, or delete environment variables, typically in support of a particular application. This basically means that users are able to  change environment variables, compilers, and libraries in order to improve performance. They also let the user choose between different versions of the same software or different combinations of related codes.\n",
    "\n",
    "\n",
    "### <a name=\"load\"></a>Loading Modules\n",
    "\n",
    "Using the \n",
    "\n",
    "```\n",
    "module load\n",
    "```\n",
    "\n",
    "command, load the suggested modules using the commands below..."
   ]
  },
  {
   "cell_type": "code",
   "execution_count": null,
   "metadata": {},
   "outputs": [],
   "source": [
    "module load gnutools\n",
    "module load intel mvapich2_ib"
   ]
  },
  {
   "cell_type": "markdown",
   "metadata": {},
   "source": [
    "Several modules that determine the default Comet environment are loaded at login time. These include the MVAPICH implementation of the MPI library and the Intel compilers. We strongly suggest that you use this combination whenever possible to get the best performance.\n",
    "\n",
    "Intel MKL libraries are available as part of the \"intel\" modules on Comet. Once this module is loaded, the environment variable MKL_ROOT points to the location of the mkl libraries. The MKL link advisor can be used to ascertain the link line (change the MKL_ROOT aspect appropriately).\n",
    "\n",
    "These commands also are helpful if you modified your environment. You can also add them to your .bashrc/.cshrc script depending on what you use.\n",
    "\n",
    "\n",
    "#### <a name=\"bash-cshell\"></a>Bash/C Shell Script\n",
    "    \n",
    "If you are using a module or a set of modules regularly, load the modules in your bash script (for bash users) or cshell script (for c shell users)...\n",
    "\n",
    "##### 1) Get Script\n",
    "\n",
    "    a) For bash users... \n",
    "```\n",
    "nano .bashrc\n",
    "```\n",
    "    b) For c shell users...\n",
    "```\n",
    "nano .cshrc\n",
    "```\n",
    "\n",
    "##### 2) Load your modules at the bottom of the script...\n",
    "\n",
    "```\n",
    "  GNU nano 2.0.9         File: .bashrc                Modified  \n",
    "\n",
    "\n",
    "# .bashrc\n",
    "\n",
    "# Source global definitions\n",
    "if [ -f /etc/bashrc ]; then\n",
    "        . /etc/bashrc\n",
    "fi\n",
    "\n",
    "# User specific aliases and functions\n",
    "module load gnutools\n",
    "module load intel mvapich2_ib\n",
    "\n",
    "\n",
    "\n",
    "\n",
    "\n",
    "\n",
    "\n",
    "\n",
    "\n",
    "^G Get Hel^O WriteOu^R Read Fi^Y Prev Pa^K Cut Tex^C Cur Pos\n",
    "^X Exit   ^J Justify^W Where I^V Next Pa^U UnCut T^T To Spell\n",
    "```\n",
    "\n",
    "\n",
    "\n",
    "\n",
    "\n",
    "\n",
    "### <a name=\"list\"></a>Listing Modules\n",
    "\n",
    "After loading these modules, check the modules loaded in your environment..."
   ]
  },
  {
   "cell_type": "code",
   "execution_count": null,
   "metadata": {},
   "outputs": [],
   "source": [
    "module list"
   ]
  },
  {
   "cell_type": "markdown",
   "metadata": {},
   "source": [
    "<span style=\"color:red\"> Note: When changing Modules, do a module list to check your environment</span>\n",
    "\n",
    "\n",
    "### <a name=\"purge\"></a>Deleting All Modules\n",
    "\n",
    "To start with no modules loaded (which you can use to reset your module environment)..."
   ]
  },
  {
   "cell_type": "code",
   "execution_count": null,
   "metadata": {},
   "outputs": [],
   "source": [
    "module purge"
   ]
  },
  {
   "cell_type": "markdown",
   "metadata": {},
   "source": [
    "To see if you successfully deleted all the loaded modules..."
   ]
  },
  {
   "cell_type": "code",
   "execution_count": null,
   "metadata": {},
   "outputs": [],
   "source": [
    "moudule list"
   ]
  },
  {
   "cell_type": "markdown",
   "metadata": {},
   "source": [
    "### <a name=\"avail\"></a>Avaliable Modules\n",
    "\n",
    "This lists the avaliable modules that you can load..."
   ]
  },
  {
   "cell_type": "code",
   "execution_count": null,
   "metadata": {},
   "outputs": [],
   "source": [
    "module avail"
   ]
  },
  {
   "cell_type": "markdown",
   "metadata": {},
   "source": [
    "### <a name=\"display\"></a>Module Display Command\n",
    "\n",
    "This shows the environment variables used by module name and how they are affected..."
   ]
  },
  {
   "cell_type": "code",
   "execution_count": null,
   "metadata": {},
   "outputs": [],
   "source": [
    "module display intel"
   ]
  },
  {
   "cell_type": "markdown",
   "metadata": {},
   "source": [
    "### <a name=\"swap\"></a>Swapping Modules"
   ]
  },
  {
   "cell_type": "code",
   "execution_count": null,
   "metadata": {},
   "outputs": [],
   "source": [
    "module swap module_one module_two"
   ]
  },
  {
   "cell_type": "markdown",
   "metadata": {},
   "source": [
    "This replaces module one with module two in the environment \n",
    "\n",
    "\n",
    "\n",
    "### <a name=\"unload\"></a>Unloading Modules\n"
   ]
  },
  {
   "cell_type": "code",
   "execution_count": null,
   "metadata": {},
   "outputs": [],
   "source": [
    "module unload <module_name>"
   ]
  },
  {
   "cell_type": "markdown",
   "metadata": {},
   "source": [
    "This unloads only one module which can be easier if you do not want to remove all your loaded modules.\n",
    "\n",
    "Be careful when unloading modules because some are dependent on other. For example, unloading the intel module will automatically unload the mvapich2_ib module. However, loading intel module will not automatically unload mvapich2_ib module. (you will learn about the intel and mvapich2_ib modules later on)\n",
    "\n",
    "Note:\n",
    "#!/bin/bash :\n",
    "    * This can be the first line of the module scripts. This mean that the scripts should be run in bash. This can also be used when creating a bash script by putting this at the top of the script\n",
    "\n",
    "source /etc/profile.d/modules.sh :\n",
    "    *If there is a module: command not found when running a module in a batch job or switching between shells use this command\n",
    "\n",
    "\n",
    "\n",
    "[Back To Top](#top)\n",
    "<hr>\n",
    "\n",
    "## <a name=\"compilers\"></a>Compilers\n",
    "\n",
    "\n",
    "### <a name=\"pgi\"></a>PGI COMPILERS\n",
    "\n",
    "Why PGI Compilers?\n",
    "\n",
    "The PGI compilers are helpful for HPC developers who target multicore CPUs and heterogenous GPU-accelerated systems. \n",
    "\n",
    "How to load PGI compilers?\n",
    "\n",
    "PGI compilers can be loaded by executing the following commands at the Linux prompt or placing in your startup file (~/.cshrc or ~/.bashrc)...\n",
    "\n"
   ]
  },
  {
   "cell_type": "code",
   "execution_count": null,
   "metadata": {},
   "outputs": [],
   "source": [
    "module purge"
   ]
  },
  {
   "cell_type": "code",
   "execution_count": null,
   "metadata": {},
   "outputs": [],
   "source": [
    "module load gnutools"
   ]
  },
  {
   "cell_type": "code",
   "execution_count": null,
   "metadata": {},
   "outputs": [],
   "source": [
    "module pgi mvapich2_ib"
   ]
  },
  {
   "cell_type": "markdown",
   "metadata": {},
   "source": [
    "### <a name=\"gnu\"></a>GNU COMPILERS\n",
    "\n",
    "\n",
    "WHy GNU Compilers?\n",
    "\n",
    "\n",
    "The GNU compilers are very important because it contains compilers that supports C, C++, Fortran, and Java programming languages. \n",
    "\n",
    "\n",
    "How to load GNU Compilers?\n",
    "\n",
    "\n",
    "GNU compilers can be loaded by executing the following commands at the Linux prompt or placing in your startup files (~/.cshrc or ~/.bashrc)..."
   ]
  },
  {
   "cell_type": "code",
   "execution_count": null,
   "metadata": {},
   "outputs": [],
   "source": [
    "module purge"
   ]
  },
  {
   "cell_type": "code",
   "execution_count": null,
   "metadata": {},
   "outputs": [],
   "source": [
    "module load gnutools"
   ]
  },
  {
   "cell_type": "code",
   "execution_count": null,
   "metadata": {},
   "outputs": [],
   "source": [
    "module load gnu openmpi_ib"
   ]
  },
  {
   "cell_type": "markdown",
   "metadata": {},
   "source": [
    "*Notes When Using Compilers:*\n",
    "\n",
    "-If you use the PGI or GNU compilers or switch between compilers for different applications, make sure that you load the appropriate modules before running your executables.\n",
    "\n",
    "-When building OpenMP applications and moving between different compilers, one of the most common errors is to use the wrong flag to enable handling of OpenMP directives. Note that Intel, PGI, and GNU compilers use the -openmp, -mp, and -fopenmp flags, respectively.\n",
    "\n",
    "-Turn off debugging, profiling, and bounds checking when building executables intended for production runs as these can seriously impact performance. These options are all disabled by default. The flag used for bounds checking is compiler dependent, but the debugging (-g) and profiling (-pg) flags tend to be the same for all major compilers.\n",
    "\n",
    "-Explicitly set the optimization level in your makefiles or compilation scripts. Most well written codes can safely use the highest optimization level (-O3), but many compilers set lower default levels (e.g. GNU compilers use the default -O0, which turns off all optimizations).\n",
    "\n",
    "\n",
    "[Back To Top](#top)\n",
    "<hr>\n",
    "\n",
    "\n"
   ]
  },
  {
   "cell_type": "code",
   "execution_count": null,
   "metadata": {},
   "outputs": [],
   "source": []
  }
 ],
 "metadata": {
  "kernelspec": {
   "display_name": "Bash",
   "language": "bash",
   "name": "bash"
  },
  "language_info": {
   "codemirror_mode": "shell",
   "file_extension": ".sh",
   "mimetype": "text/x-sh",
   "name": "bash"
  }
 },
 "nbformat": 4,
 "nbformat_minor": 4
}
