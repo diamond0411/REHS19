{
 "cells": [
  {
   "cell_type": "markdown",
   "metadata": {},
   "source": [
    "# Comet User Guide"
   ]
  },
  {
   "cell_type": "markdown",
   "metadata": {},
   "source": [
    "This is a tutorial on the usage of terminal commands when using Comet\n",
    "\n",
    "To know about the Comet's technical summary, go to https://www.sdsc.edu/support/user_guides/comet.html#access "
   ]
  },
  {
   "cell_type": "markdown",
   "metadata": {},
   "source": [
    "## Terminal Application"
   ]
  },
  {
   "cell_type": "markdown",
   "metadata": {},
   "source": [
    "To connect to Comet, you will be using the Terminal Application for Mac user or the Commands prompt for Window users. The terminal applications are used to connect clients (you and your laptop) to remote computers (such as Comet). See https://en.wikipedia.org/wiki/Secure_Shell for more information. The best known example of using a terminal is for logging in/connecting to a remote computer systems by users. This is called a client-server connection. Terminals are interactive: you type in a command to run, and the outputs are displayed on the terminal. Executing any command is done by typing it and pressing Enter."
   ]
  },
  {
   "cell_type": "markdown",
   "metadata": {},
   "source": [
    "### Logging On"
   ]
  },
  {
   "cell_type": "markdown",
   "metadata": {},
   "source": [
    "You should have gotten email for the Institute staff welcoming you to the Institute, with instructions about how to obtain your account information (the username and password). If you did not recieve these instructions or have forgotten your password, please contact us at consult@sdsc.edu."
   ]
  },
  {
   "cell_type": "markdown",
   "metadata": {},
   "source": [
    "For Mac users, the Terminal application is typically used for connections. This is done from the command line:\n",
    "\n",
    "For Window users, you will need to run an X Server and an ssh-like client. Cygwin provides a comprehensive Linux-like environment and an X server (Cygwin/X). Putty will also work for direct access to Comet, it is only used for file transfers. For download and installation instructions, see: \n",
    "http://www.cygwin.com/\n",
    "\n",
    "http://x.cygwin.com/\n",
    "\n",
    "https://www.putty.org/"
   ]
  },
  {
   "cell_type": "code",
   "execution_count": null,
   "metadata": {},
   "outputs": [],
   "source": [
    "! ssh -l username@comet.sdsc.edu"
   ]
  },
  {
   "cell_type": "markdown",
   "metadata": {},
   "source": [
    "SSH provides a secure channel over any network in a client-server architecture. You will be using your laptop to access SDSC’s HPC systems using the secure shell command ssh. It is essential that you be able to run secure shell (or a similar connection tool) with X11 forwarding enabled, which allows you to have data encryption and to launch windows applications (e.g. plotting, or a browser).\n",
    "\n",
    "Once you enter your password, you will be assigned one of the four login nodes comet-ln[1-4].sdsc.edu"
   ]
  },
  {
   "cell_type": "markdown",
   "metadata": {},
   "source": [
    "**Logging On without Password**"
   ]
  },
  {
   "cell_type": "markdown",
   "metadata": {},
   "source": [
    "Being able to log onto Comet without having to give your password would make it easier when switching around between nodes. To do this, follow these commands in your command line..."
   ]
  },
  {
   "cell_type": "code",
   "execution_count": null,
   "metadata": {},
   "outputs": [
    {
     "name": "stdout",
     "output_type": "stream",
     "text": [
      "Generating public/private rsa key pair.\n",
      "Enter file in which to save the key (/Users/alishachakraborty/.ssh/id_rsa): "
     ]
    }
   ],
   "source": [
    "! ssh-keygen -t rsa"
   ]
  },
  {
   "cell_type": "markdown",
   "metadata": {},
   "source": [
    "When it asks for you to enter a file/passphrase, just hit the ENTER or RETURN key."
   ]
  },
  {
   "cell_type": "code",
   "execution_count": null,
   "metadata": {},
   "outputs": [],
   "source": [
    "! ssh username@comet.sdsc.edu mkdir -p .ssh"
   ]
  },
  {
   "cell_type": "markdown",
   "metadata": {},
   "source": [
    "This created a .ssh directory to store the password. \n",
    "\n",
    "Enter your password when it asks for it"
   ]
  },
  {
   "cell_type": "code",
   "execution_count": null,
   "metadata": {},
   "outputs": [],
   "source": [
    "! cat .ssh/id_rsa.pub | username@comet.sdsc.edu 'cat >> .ssh/authorized_keys'"
   ]
  },
  {
   "cell_type": "markdown",
   "metadata": {},
   "source": [
    "This uploads the public key onto the comet server in the .ssh directory and puts it into a file called authorized_keys"
   ]
  },
  {
   "cell_type": "code",
   "execution_count": null,
   "metadata": {},
   "outputs": [],
   "source": [
    "! ssh username@comet.sdsc.edu \"chmod 700 .ssh; chmod 640 .ssh/authorized_keys\""
   ]
  },
  {
   "cell_type": "markdown",
   "metadata": {},
   "source": [
    "Due to different SSH versions on servers, this sets permissions on .ssh directory and authorized_keys file."
   ]
  },
  {
   "cell_type": "markdown",
   "metadata": {},
   "source": [
    "After this, logging on using ssh username@comet.sdsc.edu should allow you to connet to Comet without having to have a password"
   ]
  },
  {
   "cell_type": "markdown",
   "metadata": {},
   "source": [
    "### Who is on the computer"
   ]
  },
  {
   "cell_type": "code",
   "execution_count": 1,
   "metadata": {},
   "outputs": [
    {
     "name": "stdout",
     "output_type": "stream",
     "text": [
      "alishachakraborty\n"
     ]
    }
   ],
   "source": [
    "! whoami"
   ]
  },
  {
   "cell_type": "markdown",
   "metadata": {},
   "source": [
    "Tells you which account your server is on which can be helpful when switching around between nodes"
   ]
  },
  {
   "cell_type": "code",
   "execution_count": 1,
   "metadata": {},
   "outputs": [
    {
     "name": "stdout",
     "output_type": "stream",
     "text": [
      "Alishas-MacBook-Pro.local\n"
     ]
    }
   ],
   "source": [
    "! hostname"
   ]
  },
  {
   "cell_type": "markdown",
   "metadata": {},
   "source": [
    "Running this command will tell you the domain name. If you run this while on Comet, it will show comet -lnX.sdsc.edu.\n",
    "\n",
    "This is helpful when switching nodes on Comet because it will inform you if you are on an interactive node that is used for running notebooks or if you are on a login node, which is given to you when you login to Comet."
   ]
  },
  {
   "cell_type": "markdown",
   "metadata": {},
   "source": [
    "**Getting Domain Name and Host Information**"
   ]
  },
  {
   "cell_type": "markdown",
   "metadata": {},
   "source": [
    "Each machine you work with will have a domain_name, hostname or ip_address. You can learn about IP addresses and domain names here: https://computer.howstuffworks.com/dns.htm.\n",
    "\n",
    "You may need to know the physical IP address of the cluster. To do this, run..."
   ]
  },
  {
   "cell_type": "code",
   "execution_count": null,
   "metadata": {},
   "outputs": [],
   "source": [
    "! nslookup comet.sdsc.edu"
   ]
  },
  {
   "cell_type": "markdown",
   "metadata": {},
   "source": [
    "The IP address is the line labeled \"Address\" and for Comet there are two. You can log onto Comet using either the DN or the IP addresses."
   ]
  },
  {
   "cell_type": "markdown",
   "metadata": {},
   "source": [
    "### Directory Commands"
   ]
  },
  {
   "cell_type": "markdown",
   "metadata": {},
   "source": [
    "A directory is a location where you can store files in. An example of a directory is a folder on your desktop. These commands will teach you how to deal with directory from the command line ..."
   ]
  },
  {
   "cell_type": "code",
   "execution_count": 3,
   "metadata": {},
   "outputs": [
    {
     "name": "stdout",
     "output_type": "stream",
     "text": [
      "total 272\n",
      "drwxr-xr-x  24 alishachakraborty  staff    816 Jul 17 10:51 \u001b[34m.\u001b[m\u001b[m\n",
      "drwx------@ 26 alishachakraborty  staff    884 Jul 17 09:59 \u001b[34m..\u001b[m\u001b[m\n",
      "-rw-r--r--@  1 alishachakraborty  staff   6148 Jul 16 11:50 .DS_Store\n",
      "drwxr-xr-x  13 alishachakraborty  staff    442 Jul 17 09:39 \u001b[34m.git\u001b[m\u001b[m\n",
      "drwxr-xr-x  12 alishachakraborty  staff    408 Jul 17 09:15 \u001b[34m.ipynb_checkpoints\u001b[m\u001b[m\n",
      "-rw-r--r--   1 alishachakraborty  staff  10075 Jun 27 09:36 BlackJack-Java.ipynb\n",
      "-rw-r--r--   1 alishachakraborty  staff   5802 Jun 27 11:53 DataFrames.ipynb\n",
      "-rw-r--r--@  1 alishachakraborty  staff   3492 Jun 26 12:01 Distance.ipynb\n",
      "-rw-r--r--   1 alishachakraborty  staff    719 Jun 26 10:02 HelloWorld.ipynb\n",
      "-rw-r--r--   1 alishachakraborty  staff  47903 Jul  3 10:13 PlottingExamples.ipynb\n",
      "-rw-r--r--@  1 alishachakraborty  staff   2754 Jul 16 10:36 SystemControls.html\n",
      "-rw-r--r--   1 alishachakraborty  staff   3296 Jul  2 14:59 Untitled.ipynb\n",
      "-rw-r--r--   1 alishachakraborty  staff     72 Jul 16 11:12 Untitled1.ipynb\n",
      "-rw-r--r--   1 alishachakraborty  staff     59 Jul  3 10:12 Updatedstrings.csv\n",
      "drwxr-xr-x   4 alishachakraborty  staff    136 Jul  2 14:59 \u001b[34m__pycache__\u001b[m\u001b[m\n",
      "drwxr-xr-x   2 alishachakraborty  staff     68 Jul 17 10:51 \u001b[34mdirectory\u001b[m\u001b[m\n",
      "-rw-r--r--   1 alishachakraborty  staff     20 Jul  2 09:46 examples.csv\n",
      "-rw-r--r--@  1 alishachakraborty  staff    152 Jul  2 14:59 helloWorld.py\n",
      "-rw-r--r--   1 alishachakraborty  staff   2600 Jul  3 09:06 modules.ipynb\n",
      "drwxr-xr-x   2 alishachakraborty  staff     68 Jul  2 11:25 \u001b[34mpythonSeries\u001b[m\u001b[m\n",
      "-rw-r--r--   1 alishachakraborty  staff    314 Jul  3 09:48 sample.csv\n",
      "-rw-r--r--   1 alishachakraborty  staff     54 Jul  3 09:38 strings.csv\n",
      "-rw-r--r--@  1 alishachakraborty  staff  10608 Jul 17 10:50 systemControls.ipynb\n",
      "-rw-r--r--   1 alishachakraborty  staff    368 Jul  2 09:51 zoo.csv\n"
     ]
    }
   ],
   "source": [
    "! mkdir directory #1\n",
    "! cd directory/ #2\n",
    "! ls -al #3"
   ]
  },
  {
   "cell_type": "markdown",
   "metadata": {},
   "source": [
    "1) This creates a directory where you can store code or clone github repositories on\n",
    "\n",
    "2) This allows you to go inside the directory to add or create files inside the directory\n",
    "\n",
    "3) This lists all the files inside the directory, including the type, the date, the ownership, and name of directory entry. This command is the most helpful if you want to find a certain directory.\n",
    "\n",
    "Rather than typing the directory name out, a shortcut is to type\n",
    "cd, the first few letters of the directory/file name, and hit tab on your keyboard. This will automatically put the file name on the command line "
   ]
  },
  {
   "cell_type": "code",
   "execution_count": 4,
   "metadata": {},
   "outputs": [],
   "source": [
    "! cd directory\n",
    "! cd ../"
   ]
  },
  {
   "cell_type": "markdown",
   "metadata": {},
   "source": [
    "To get out of a file or a directory\n",
    "The command ../ can be put multiple times depending on the directory hiearchy.\n",
    "For example, if I created a file in a directory on my login node, the default setting when logging into comet, and I wanted to go back to my login node I would use..."
   ]
  },
  {
   "cell_type": "code",
   "execution_count": 5,
   "metadata": {},
   "outputs": [
    {
     "name": "stdout",
     "output_type": "stream",
     "text": [
      "/bin/sh: cd../../: No such file or directory\n"
     ]
    }
   ],
   "source": [
    "! cd../../"
   ]
  },
  {
   "cell_type": "markdown",
   "metadata": {},
   "source": [
    "The first ../ gets me out of the file in the directory\n",
    "The second ../ gets me out of the directory and onto only the login node "
   ]
  },
  {
   "cell_type": "markdown",
   "metadata": {},
   "source": [
    "### Modules"
   ]
  },
  {
   "cell_type": "markdown",
   "metadata": {},
   "source": [
    "The Environment Modules package provides for dynamic modification of your shell environment. Module commands set, change, or delete environment variables, typically in support of a particular application. This basically means that users are able to  change environment variables, compilers, and libraries in order to improve performance. They also let the user choose between different versions of the same software or different combinations of related codes."
   ]
  },
  {
   "cell_type": "code",
   "execution_count": null,
   "metadata": {},
   "outputs": [
    {
     "name": "stdout",
     "output_type": "stream",
     "text": [
      "/bin/sh: module: command not found\n",
      "/bin/sh: module: command not found\n",
      "/bin/sh: module: command not found\n"
     ]
    }
   ],
   "source": [
    "! module list #1\n",
    "! module avail #2\n",
    "! module purge #3"
   ]
  },
  {
   "cell_type": "markdown",
   "metadata": {},
   "source": [
    "1) This lists the modules that are loaded in your environment. If you have not added any modules, then executing this command should say No ModuleFiles Currently Loaded. \n",
    "\n",
    "2) This lists the avaliable modules\n",
    "\n",
    "3) This deletes all the loaded modules in your environment\n",
    "\n",
    "Some more advanced module commands are..."
   ]
  },
  {
   "cell_type": "code",
   "execution_count": null,
   "metadata": {},
   "outputs": [],
   "source": [
    "! module display <module_name> #1\n",
    "! module load <module_name>    #2\n",
    "! module swap <module one> <module two> #3"
   ]
  },
  {
   "cell_type": "markdown",
   "metadata": {},
   "source": [
    "1) This shows the environment variables used by module name and how they are affected\n",
    "    \n",
    "2) This loads module_name into the environment\n",
    "    \n",
    "3) This replaces module one with module two in the environment\n"
   ]
  },
  {
   "cell_type": "markdown",
   "metadata": {},
   "source": [
    "To make sure that the modules are loaded, execute module list. All three modules should show up"
   ]
  },
  {
   "cell_type": "code",
   "execution_count": null,
   "metadata": {},
   "outputs": [],
   "source": [
    "! module unload <module_name>"
   ]
  },
  {
   "cell_type": "markdown",
   "metadata": {},
   "source": [
    "This unloads only one module which can be easier if you do not want to remove all your loaded modules.\n",
    "\n",
    "Be careful when unloading modules because some are dependent on other. For example, unloading the intel module will automatically unload the mvapich2_ib module. However, loading intel module will not automatically unload mvapich2_ib module.\n",
    "\n",
    "If you are using a set of modules regularly, do this..."
   ]
  },
  {
   "cell_type": "code",
   "execution_count": null,
   "metadata": {},
   "outputs": [],
   "source": [
    "! nano .bashrc # for bash users\n",
    "! nano .cshrc #for C shell users"
   ]
  },
  {
   "cell_type": "markdown",
   "metadata": {},
   "source": [
    "Then go to the bottom of the script and load the modules "
   ]
  },
  {
   "cell_type": "code",
   "execution_count": null,
   "metadata": {},
   "outputs": [],
   "source": [
    "#!/bin/bash"
   ]
  },
  {
   "cell_type": "markdown",
   "metadata": {},
   "source": [
    "This can be the first line of the module scripts. This mean that the scripts should be run in bash. This can also be used when creating a bash script by putting this at the top of the script"
   ]
  },
  {
   "cell_type": "markdown",
   "metadata": {},
   "source": [
    "If there is a module: command not found when running a module in a batch job or switching between shells use..."
   ]
  },
  {
   "cell_type": "code",
   "execution_count": null,
   "metadata": {},
   "outputs": [
    {
     "name": "stdout",
     "output_type": "stream",
     "text": [
      "/bin/sh: /etc/profile.d/modules.sh: No such file or directory\n"
     ]
    }
   ],
   "source": [
    "! source /etc/profile.d/modules.sh "
   ]
  },
  {
   "cell_type": "markdown",
   "metadata": {},
   "source": [
    "Several modules that determine the default Comet environment are loaded at login time. These include the MVAPICH implementation of the MPI library and the Intel compilers. We strongly suggest that you use this combination whenever possible to get the best performance.\n",
    "\n",
    "\n",
    "Follow these steps to create environment modules used to run Comet..."
   ]
  },
  {
   "cell_type": "code",
   "execution_count": null,
   "metadata": {},
   "outputs": [],
   "source": [
    "! module purge \n",
    "! module load gnutools\n",
    "! module load intel mvapich2_ib\n",
    "! module list"
   ]
  },
  {
   "cell_type": "markdown",
   "metadata": {},
   "source": [
    "These three environment modules are the basic modules needed to run a notebook on Comet. The intel compilers are the default/suggested when using Comet. To make sure that the modules are loaded, execute module list. All three modules should show up\n",
    "\n",
    "These commands also are helpful if you modified your environment. You can also add them to your .bashrc/.cshrc script depending on what you use."
   ]
  },
  {
   "cell_type": "markdown",
   "metadata": {},
   "source": [
    "Intel MKL libraries are available as part of the \"intel\" modules on Comet. Once this module is loaded, the environment variable MKL_ROOT points to the location of the mkl libraries. The MKL link advisor can be used to ascertain the link line (change the MKL_ROOT aspect appropriately)."
   ]
  },
  {
   "cell_type": "markdown",
   "metadata": {},
   "source": [
    "**PGI COMPILERS**\n",
    "\n",
    "Why PGI Compilers?\n",
    "\n",
    "The PGI compilers are helpful for HPC developers who target multicore CPUs and heterogenous GPU-accelerated systems. \n",
    "\n",
    "How to load PGI compilers?\n",
    "\n",
    "PGI compilers can be loaded by executing the following commands at the Linux prompt or placing in your startup file (~/.cshrc or ~/.bashrc)..."
   ]
  },
  {
   "cell_type": "code",
   "execution_count": null,
   "metadata": {},
   "outputs": [],
   "source": [
    "! module purge\n",
    "! module load gnutools\n",
    "! module load pgi mvapich2_ib"
   ]
  },
  {
   "cell_type": "markdown",
   "metadata": {},
   "source": [
    "**GNU COMPILERS**\n",
    "\n",
    "\n",
    "WHy GNU Compilers?\n",
    "\n",
    "\n",
    "The GNU compilers are very important because it contains compilers that supports C, C++, Fortran, and Java programming languages. \n",
    "\n",
    "\n",
    "How to load GNU Compilers?\n",
    "\n",
    "\n",
    "GNU compilers can be loaded by executing the following commands at the Linux prompt or placing in your startup files (~/.cshrc or ~/.bashrc)..."
   ]
  },
  {
   "cell_type": "code",
   "execution_count": null,
   "metadata": {},
   "outputs": [],
   "source": [
    "! module purge\n",
    "! module load gnutools\n",
    "! module load gnu openmpi_ib"
   ]
  },
  {
   "cell_type": "markdown",
   "metadata": {},
   "source": [
    "*Notes When Using Compilers:*\n",
    "\n",
    "-If you use the PGI or GNU compilers or switch between compilers for different applications, make sure that you load the appropriate modules before running your executables.\n",
    "\n",
    "-When building OpenMP applications and moving between different compilers, one of the most common errors is to use the wrong flag to enable handling of OpenMP directives. Note that Intel, PGI, and GNU compilers use the -openmp, -mp, and -fopenmp flags, respectively.\n",
    "\n",
    "-Turn off debugging, profiling, and bounds checking when building executables intended for production runs as these can seriously impact performance. These options are all disabled by default. The flag used for bounds checking is compiler dependent, but the debugging (-g) and profiling (-pg) flags tend to be the same for all major compilers.\n",
    "\n",
    "-Explicitly set the optimization level in your makefiles or compilation scripts. Most well written codes can safely use the highest optimization level (-O3), but many compilers set lower default levels (e.g. GNU compilers use the default -O0, which turns off all optimizations).\n"
   ]
  }
 ],
 "metadata": {
  "kernelspec": {
   "display_name": "Python 3",
   "language": "python",
   "name": "python3"
  },
  "language_info": {
   "codemirror_mode": {
    "name": "ipython",
    "version": 3
   },
   "file_extension": ".py",
   "mimetype": "text/x-python",
   "name": "python",
   "nbconvert_exporter": "python",
   "pygments_lexer": "ipython3",
   "version": "3.7.3"
  }
 },
 "nbformat": 4,
 "nbformat_minor": 2
}
