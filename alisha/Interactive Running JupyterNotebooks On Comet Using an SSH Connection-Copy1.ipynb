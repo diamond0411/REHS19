{
 "cells": [
  {
   "cell_type": "markdown",
   "metadata": {
    "extensions": {
     "jupyter_dashboards": {
      "version": 1,
      "views": {
       "grid_default": {
        "col": 0,
        "height": 4,
        "hidden": false,
        "row": 4,
        "width": 4
       },
       "report_default": {}
      }
     }
    }
   },
   "source": [
    "# How To Run A Jupyter Notebook on Comet Using an SSH Connection\n",
    "\n",
    "By Alisha Chakraborty\n",
    "\n",
    "This notebook is run using a Bash kernel which must be installed to for this notebook to run. To install this kernel, visit https://github.com/takluyver/bash_kernel\n",
    "\n",
    "This tutorial will go over the steps and commands on how to run a Jupyter Notebook on Comet \n",
    "To run a notebook using Comet, make sure you are on a protected network(ex. UCSD-PROTECTED).\n",
    "\n",
    "<span style=\"color:red\"> **This is an interactive notebook**</span>\n",
    "\n",
    "<a name=\"top\">Contents:\n",
    " * [Logging Onto Comet](#logging-on)\n",
    "    \n",
    "    *[Unix](#unix-mac)\n",
    "    \n",
    "    *[Mac OS](#unix-mac)\n",
    "    \n",
    "    *[Windows](#windows)\n",
    "    \n",
    "    *[JupyterLab](#jupyter-lab)\n",
    "    \n",
    " * [Request An Interactive Node](#interactive-node)\n",
    " * [Load Singularity Module](#singularity-module)\n",
    " * [Create an Interactive Shell](#interactive-shell)\n",
    " * [Lauch the Jupyter Notebook Application](#launching-notebook)\n",
    "    \n",
    "[Back To Top](#top)\n",
    "<hr>\n",
    "\n",
    "## <a name=\"loggin-on\"></a>STEP 1: Logging Onto Comet\n",
    "\n",
    "Notes: \n",
    "* The way to log on depends the computer that you are using\n",
    "* The domain name for Comet is comet.sdsc.edu\n",
    "\n",
    "### <a name=\"unix-mac\"></a>Unix or Mac OS:\n",
    "\n",
    "* open up terminal window and sign on using the ssh connection with the command below\n",
    "    \n",
    "    ssh username@comet.sdsc.edu \n",
    "    \n",
    " ### <a name=\"windows\"></a>Windows:\n",
    "For Window users, you will need to run an X Server and an ssh-like client. Cygwin provides a comprehensive Linux-like environment and an X server (Cygwin/X). Putty will also work for direct access to Comet, it is only used for file transfers. For download and installation instructions, see: \n",
    "\n",
    "http://www.cygwin.com/\n",
    "\n",
    "http://x.cygwin.com/\n",
    "\n",
    "https://www.putty.org/\n",
    "\n",
    "\n",
    "* Putty: log in using your username and password\n",
    "* cygwin: open a cygwin window and sign on using the command below\n",
    "\n",
    "    ```\n",
    "    ssh username@comet.sdsc.edu \n",
    "    ```\n",
    "\n",
    "    \n",
    "### <a name=\"jupyter-lab\"></a>JupyterLab:\n",
    "\n",
    "* open a terminal window in JupyterLab and use the ssh command above\n",
    "\n",
    "### Once you are logged onto Comet, you will see this in your terminal window\n",
    "\n",
    "<img src=\"./Images/comet-login.png\" alt=\"Comet Login\" width=\"400px\"  align=\"left\"/>"
   ]
  },
  {
   "cell_type": "markdown",
   "metadata": {},
   "source": [
    "Note: It will be much easier to log onto comet without having to give your password\n",
    "\n",
    "To learn how to do this, go to [SSH passwordless key](https://www.tecmint.com/ssh-passwordless-login-using-ssh-keygen-in-5-easy-steps/)\n",
    "\n",
    "Now, log onto comet in the cell below using your username"
   ]
  },
  {
   "cell_type": "code",
   "execution_count": null,
   "metadata": {},
   "outputs": [
    {
     "name": "stdout",
     "output_type": "stream",
     "text": [
      "Last login: Fri Aug  2 17:51:34 2019 from comet-04-30.sdsc.edu\n",
      "Rocks 6.2 (SideWinder)\n",
      "Profile built 16:44 08-Feb-2016\n",
      "\n",
      "Kickstarted 17:18 08-Feb-2016\n",
      "                                                                       \n",
      "                      WELCOME TO \n",
      "      __________________  __  _______________\n",
      "        -----/ ____/ __ \\/  |/  / ____/_  __/\n",
      "          --/ /   / / / / /|_/ / __/   / /\n",
      "           / /___/ /_/ / /  / / /___  / /\n",
      "           \\____/\\____/_/  /_/_____/ /_/\n",
      "\n",
      "*******************************************************************************\n",
      "\n",
      "[1] Example Scripts: /share/apps/examples\n",
      "\n",
      "[2] Filesystems:\n",
      "\n",
      "     (a) Lustre scratch filesystem : /oasis/scratch/comet/$USER/temp_project\n",
      "         (Preferred: Scalable large block I/O)\n",
      "            *** Meant for storing data required for active simulations\n",
      "            *** Not backed up and should not be used for storing data long term\n",
      "            *** Periodically clear old data not required for active simulations\n",
      "\n",
      "     (b) Compute/GPU node local SSD storage: /scratch/$USER/$SLURM_JOBID\n",
      "         (Meta-data intensive jobs, high IOPs)\n",
      "\n",
      "     (c) Lustre projects filesystem: /oasis/projects/nsf\n",
      "     \n",
      "     (d) /home/$USER : Only for source files, libraries, binaries.\n",
      "         *Do not* use for I/O intensive jobs.\n",
      "\n",
      "[3] Comet User Guide: http://www.sdsc.edu/support/user_guides/comet.html\n",
      "\n",
      "******************************************************************************\n",
      "-bash: �: command not found\n"
     ]
    }
   ],
   "source": [
    "ssh username@comet.sdsc.edu"
   ]
  },
  {
   "cell_type": "markdown",
   "metadata": {},
   "source": [
    "[Back To Top](#top)\n",
    "<hr>"
   ]
  },
  {
   "cell_type": "markdown",
   "metadata": {},
   "source": [
    "## <a name=\"interactive-node\"></a>STEP 2: Request An Interactive Node\n",
    "\n",
    "At this point, you should have a terminal window connection to Comet.\n",
    "\n",
    "Follow these steps to create an interactive node"
   ]
  },
  {
   "cell_type": "markdown",
   "metadata": {},
   "source": [
    "### Check Your Environment:"
   ]
  },
  {
   "cell_type": "code",
   "execution_count": null,
   "metadata": {},
   "outputs": [],
   "source": [
    "module list"
   ]
  },
  {
   "cell_type": "markdown",
   "metadata": {},
   "source": [
    "### Request An Interactive Node:"
   ]
  },
  {
   "cell_type": "code",
   "execution_count": null,
   "metadata": {},
   "outputs": [],
   "source": [
    "srun --pty --nodes=1 --ntasks-per-node=24 -p compute -t 02:00:00 --wait 0 /bin/bash"
   ]
  },
  {
   "cell_type": "markdown",
   "metadata": {},
   "source": [
    "[Back To Top](#top)\n",
    "<hr>\n",
    "\n",
    "## <a name=\"singularity-module\"></a> STEP 3: Load Singularity Module\n",
    "\n",
    "### In order to run a notebook, you have to load a singularity module:\n",
    "\n"
   ]
  },
  {
   "cell_type": "code",
   "execution_count": null,
   "metadata": {},
   "outputs": [],
   "source": [
    "module load singularity"
   ]
  },
  {
   "cell_type": "markdown",
   "metadata": {},
   "source": [
    "### Check to see if the module has been downloaded using module list"
   ]
  },
  {
   "cell_type": "code",
   "execution_count": null,
   "metadata": {},
   "outputs": [],
   "source": [
    "module list"
   ]
  },
  {
   "cell_type": "markdown",
   "metadata": {},
   "source": [
    "* This should list the singularity module along with the modules already loaded into your environment\n",
    "\n",
    "[Back To Top](#top)\n",
    "<hr>\n",
    "\n",
    "## <a name=\"interactive-shell\"></a> STEP 4: Create an Interactive Shell\n",
    "\n",
    "### Once your singularity module is loaded, get an interactive shell:"
   ]
  },
  {
   "cell_type": "code",
   "execution_count": null,
   "metadata": {},
   "outputs": [],
   "source": [
    "singularity shell /share/apps/gpu/singularity/sdsc_ubuntu_tf1.1_keras_R.img"
   ]
  },
  {
   "cell_type": "markdown",
   "metadata": {},
   "source": [
    "[Back To Top](#top)\n",
    "<hr>\n",
    "\n",
    "## <a name=\"lauching-notebook\"></a> STEP 5: Launching Jupyter Notebook Application\n",
    "\n",
    "### Lauch the Jupyter Notebook application by using this command:"
   ]
  },
  {
   "cell_type": "code",
   "execution_count": null,
   "metadata": {},
   "outputs": [],
   "source": [
    "ipython notebook --no-browser --ip=`/bin/hostname`"
   ]
  },
  {
   "cell_type": "markdown",
   "metadata": {},
   "source": [
    "[Back To Top](#top)"
   ]
  }
 ],
 "metadata": {
  "extensions": {
   "jupyter_dashboards": {
    "activeView": "grid_default",
    "version": 1,
    "views": {
     "grid_default": {
      "cellMargin": 10,
      "defaultCellHeight": 20,
      "maxColumns": 12,
      "name": "grid",
      "type": "grid"
     },
     "report_default": {
      "name": "report",
      "type": "report"
     }
    }
   }
  },
  "kernelspec": {
   "display_name": "Bash",
   "language": "bash",
   "name": "bash"
  },
  "language_info": {
   "codemirror_mode": "shell",
   "file_extension": ".sh",
   "mimetype": "text/x-sh",
   "name": "bash"
  }
 },
 "nbformat": 4,
 "nbformat_minor": 4
}
