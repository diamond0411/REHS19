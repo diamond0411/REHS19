{
 "cells": [
  {
   "cell_type": "markdown",
   "metadata": {},
   "source": [
    "# How To Run A Jupyter Notebook on Comet"
   ]
  },
  {
   "cell_type": "markdown",
   "metadata": {},
   "source": [
    "This tutorial will go over the steps and commands on how to run a Jupyter Notebook on Comet"
   ]
  },
  {
   "cell_type": "markdown",
   "metadata": {},
   "source": [
    "To run a notebook using Comet, make sure you are on a protected network (ex. UCSD-PROTECTED)."
   ]
  },
  {
   "cell_type": "markdown",
   "metadata": {},
   "source": [
    "## STEP 1\n",
    "\n",
    "Sign into Comet using a secure shell host (ssh) ..."
   ]
  },
  {
   "cell_type": "code",
   "execution_count": null,
   "metadata": {},
   "outputs": [
    {
     "name": "stdout",
     "output_type": "stream",
     "text": [
      "Last login: Tue Jul 23 20:47:18 2019 from cpe-70-95-93-201.san.res.rr.com\n",
      "Rocks 6.2 (SideWinder)\n",
      "Profile built 16:44 08-Feb-2016\n",
      "\n",
      "Kickstarted 17:18 08-Feb-2016\n",
      "                                                                       \n",
      "                      WELCOME TO \n",
      "      __________________  __  _______________\n",
      "        -----/ ____/ __ \\/  |/  / ____/_  __/\n",
      "          --/ /   / / / / /|_/ / __/   / /\n",
      "           / /___/ /_/ / /  / / /___  / /\n",
      "           \\____/\\____/_/  /_/_____/ /_/\n",
      "\n",
      "*******************************************************************************\n",
      "\n",
      "[1] Example Scripts: /share/apps/examples\n",
      "\n",
      "[2] Filesystems:\n",
      "\n",
      "     (a) Lustre scratch filesystem : /oasis/scratch/comet/$USER/temp_project\n",
      "         (Preferred: Scalable large block I/O)\n",
      "            *** Meant for storing data required for active simulations\n",
      "            *** Not backed up and should not be used for storing data long term\n",
      "            *** Periodically clear old data not required for active simulations\n",
      "\n",
      "     (b) Compute/GPU node local SSD storage: /scratch/$USER/$SLURM_JOBID\n",
      "         (Meta-data intensive jobs, high IOPs)\n",
      "\n",
      "     (c) Lustre projects filesystem: /oasis/projects/nsf\n",
      "     \n",
      "     (d) /home/$USER : Only for source files, libraries, binaries.\n",
      "         *Do not* use for I/O intensive jobs.\n",
      "\n",
      "[3] Comet User Guide: http://www.sdsc.edu/support/user_guides/comet.html\n",
      "\n",
      "******************************************************************************\n",
      "\u001b]0;alishac@comet-ln2:~\u0007[alishac@comet-ln2 ~]$ "
     ]
    }
   ],
   "source": [
    "! ssh alishac@comet.sdsc.edu"
   ]
  },
  {
   "cell_type": "markdown",
   "metadata": {},
   "source": [
    "## STEP 2\n",
    "\n",
    "Get an interactive node..."
   ]
  },
  {
   "cell_type": "code",
   "execution_count": 1,
   "metadata": {},
   "outputs": [
    {
     "ename": "SyntaxError",
     "evalue": "invalid syntax (<ipython-input-1-96d559a60ea9>, line 1)",
     "output_type": "error",
     "traceback": [
      "\u001b[0;36m  File \u001b[0;32m\"<ipython-input-1-96d559a60ea9>\"\u001b[0;36m, line \u001b[0;32m1\u001b[0m\n\u001b[0;31m    srun --pty --nodes=1 --ntasks-per-node=24 -p compute -t 02:00:00 --wait 0 /bin/bash\u001b[0m\n\u001b[0m                                                       ^\u001b[0m\n\u001b[0;31mSyntaxError\u001b[0m\u001b[0;31m:\u001b[0m invalid syntax\n"
     ]
    }
   ],
   "source": [
    "! srun --pty --nodes=1 --ntasks-per-node=24 -p compute -t 02:00:00 --wait 0 /bin/bash"
   ]
  },
  {
   "cell_type": "markdown",
   "metadata": {},
   "source": [
    "It will say job XXXX has been allocated resources and will give the command line when you have been given a node. In order to run a notebook, you have to load a singularity module, which creates an interactive shell inside the container..."
   ]
  },
  {
   "cell_type": "markdown",
   "metadata": {},
   "source": [
    "## STEP 2\n",
    "\n",
    "Load a singularity module"
   ]
  },
  {
   "cell_type": "code",
   "execution_count": 1,
   "metadata": {},
   "outputs": [
    {
     "name": "stdout",
     "output_type": "stream",
     "text": [
      "/bin/sh: module: command not found\n"
     ]
    }
   ],
   "source": [
    "! module load singularity "
   ]
  },
  {
   "cell_type": "markdown",
   "metadata": {},
   "source": [
    "Check to see if the module has been loaded by doing this command..."
   ]
  },
  {
   "cell_type": "code",
   "execution_count": 4,
   "metadata": {},
   "outputs": [
    {
     "name": "stdout",
     "output_type": "stream",
     "text": [
      "/bin/sh: module: command not found\n"
     ]
    }
   ],
   "source": [
    "module list #to check if the singularity module has been loaded"
   ]
  },
  {
   "cell_type": "markdown",
   "metadata": {},
   "source": [
    "This should list the singularity module along with the modules already loaded into your enivronment. Here is an example of what your terminal should show when executing this command..."
   ]
  },
  {
   "cell_type": "markdown",
   "metadata": {},
   "source": [
    "## STEP 3"
   ]
  },
  {
   "cell_type": "markdown",
   "metadata": {},
   "source": [
    "Once your singularity module is loaded, get an interactive shell..."
   ]
  },
  {
   "cell_type": "code",
   "execution_count": 5,
   "metadata": {},
   "outputs": [
    {
     "name": "stdout",
     "output_type": "stream",
     "text": [
      "/bin/sh: singularity: command not found\n"
     ]
    }
   ],
   "source": [
    "! singularity shell /share/apps/gpu/singularity/sdsc_ubuntu_tf1.1_keras_R.img"
   ]
  },
  {
   "cell_type": "markdown",
   "metadata": {},
   "source": [
    "## STEP 4"
   ]
  },
  {
   "cell_type": "markdown",
   "metadata": {},
   "source": [
    "Lauch the Jupyter Notebook application by using this command...\n",
    "\n",
    "This will give an URL which will connect your local web browser to the interactive comet session"
   ]
  },
  {
   "cell_type": "code",
   "execution_count": null,
   "metadata": {},
   "outputs": [
    {
     "name": "stdout",
     "output_type": "stream",
     "text": [
      "[TerminalIPythonApp] WARNING | Subcommand `ipython notebook` is deprecated and will be removed in future versions.\n",
      "[TerminalIPythonApp] WARNING | You likely want to use `jupyter notebook` in the future\n",
      "\u001b[32m[I 15:18:51.401 NotebookApp]\u001b[m Loading IPython parallel extension\n",
      "\u001b[32m[I 15:18:51.457 NotebookApp]\u001b[m JupyterLab extension loaded from /Users/alishachakraborty/anaconda3/lib/python3.7/site-packages/jupyterlab\n",
      "\u001b[32m[I 15:18:51.457 NotebookApp]\u001b[m JupyterLab application directory is /Users/alishachakraborty/anaconda3/share/jupyter/lab\n",
      "\u001b[32m[I 15:18:51.459 NotebookApp]\u001b[m Serving notebooks from local directory: /Users/alishachakraborty/Desktop/REHS19_directory/REHS19/alisha\n",
      "\u001b[32m[I 15:18:51.459 NotebookApp]\u001b[m The Jupyter Notebook is running at:\n",
      "\u001b[32m[I 15:18:51.459 NotebookApp]\u001b[m http://Alishas-MacBook-Pro.local:8888/?token=7e7e87f0a806586f2007b9b35cf0fcba7c852609d0e0f587\n",
      "\u001b[32m[I 15:18:51.459 NotebookApp]\u001b[m Use Control-C to stop this server and shut down all kernels (twice to skip confirmation).\n",
      "[C 15:18:51.466 NotebookApp] \n",
      "    \n",
      "    To access the notebook, open this file in a browser:\n",
      "        file:///Users/alishachakraborty/Library/Jupyter/runtime/nbserver-15520-open.html\n",
      "    Or copy and paste one of these URLs:\n",
      "        http://Alishas-MacBook-Pro.local:8888/?token=7e7e87f0a806586f2007b9b35cf0fcba7c852609d0e0f587\n"
     ]
    }
   ],
   "source": [
    "! ipython notebook --no-browser --ip=`/bin/hostname`"
   ]
  },
  {
   "cell_type": "markdown",
   "metadata": {},
   "source": [
    "Copy and Paste it into your browser and you will be able to run a notebook on Comet!"
   ]
  },
  {
   "cell_type": "markdown",
   "metadata": {},
   "source": [
    "To exit out of a notebook, use control-C\n",
    "\n",
    "To exit out of a node , use control-D\n",
    "\n",
    "To exit out of Comet, use control-D or type exit"
   ]
  }
 ],
 "metadata": {
  "kernelspec": {
   "display_name": "Python 3",
   "language": "python",
   "name": "python3"
  },
  "language_info": {
   "codemirror_mode": {
    "name": "ipython",
    "version": 3
   },
   "file_extension": ".py",
   "mimetype": "text/x-python",
   "name": "python",
   "nbconvert_exporter": "python",
   "pygments_lexer": "ipython3",
   "version": "3.7.3"
  }
 },
 "nbformat": 4,
 "nbformat_minor": 4
}
