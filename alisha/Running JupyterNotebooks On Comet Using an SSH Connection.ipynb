{
 "cells": [
  {
   "cell_type": "markdown",
   "metadata": {
    "extensions": {
     "jupyter_dashboards": {
      "version": 1,
      "views": {
       "grid_default": {
        "col": 0,
        "height": 4,
        "hidden": false,
        "row": 4,
        "width": 4
       },
       "report_default": {}
      }
     }
    }
   },
   "source": [
    "# How To Run A Jupyter Notebook on Comet Using an SSH Connection\n",
    "\n",
    "This tutorial will go over the steps and commands on how to run a Jupyter Notebook on Comet \n",
    "To run a notebook using Comet, make sure you are on a protected network(ex. UCSD-PROTECTED).\n",
    "\n",
    "<span style=\"color:red\"> **Note: This is an instructional document. It is not interactive**</span>\n",
    "\n",
    "## STEP 1: Logging Onto Comet\n",
    "\n",
    "Notes: \n",
    "* The way to log on depends the computer that you are using\n",
    "* The domain name for Comet is comet.sdsc.edu\n",
    "\n",
    "### Unix or Mac OS:\n",
    "\n",
    "* open up terminal window and sign on using the ssh connection with the command below\n",
    "    \n",
    "    ssh username@comet.sdsc.edu \n",
    "    \n",
    "### Windows:\n",
    "For Window users, you will need to run an X Server and an ssh-like client. Cygwin provides a comprehensive Linux-like environment and an X server (Cygwin/X). Putty will also work for direct access to Comet, it is only used for file transfers. For download and installation instructions, see: \n",
    "\n",
    "http://www.cygwin.com/\n",
    "\n",
    "http://x.cygwin.com/\n",
    "\n",
    "https://www.putty.org/\n",
    "\n",
    "\n",
    "* Putty: log in using your username and password\n",
    "* cygwin: open a cygwin window and sign on using the command below\n",
    "\n",
    "    ssh username@comet.sdsc.edu \n",
    "    \n",
    "\n",
    "### JupyterLab:\n",
    "\n",
    "* open a terminal window in JupyterLab and use the ssh command above\n",
    "\n",
    "### Once you are logged onto Comet, you will see this in your terminal window\n",
    "\n",
    "<img src=\"./Images/comet-login.png\" alt=\"Comet Login\" width=\"400px\"  align=\"left\"/>\n"
   ]
  },
  {
   "cell_type": "markdown",
   "metadata": {
    "extensions": {
     "jupyter_dashboards": {
      "version": 1,
      "views": {
       "grid_default": {
        "col": 8,
        "height": 4,
        "hidden": false,
        "row": 4,
        "width": 4
       },
       "report_default": {}
      }
     }
    }
   },
   "source": [
    "## STEP 2\n",
    "\n",
    "At this point, you should have a terminal window connection to Comet\n",
    "\n",
    "\n",
    "### Check Your Environment:\n",
    "\n",
    "```\n",
    "[alishac@comet-ln3 ~]$ module list\n",
    "Currently Loaded Modulefiles:\n",
    "  1) intel/2013_sp1.2.144   2) mvapich2_ib/2.1        3) gnutools/2.69\n",
    "[alishac@comet-ln3 ~]$ \n",
    "```\n",
    "\n",
    "### Request An Interactive Node:\n",
    "\n",
    "```\n",
    "[alishac@comet-ln3 ~]$ srun --pty --nodes=1 --ntasks-per-node=24 -p compute -t 02:00:00 --wait 0 /bin/bash\n",
    "srun: job 25152249 queued and waiting for resources\n",
    "srun: job 25152249 has been allocated resources\n",
    "[alishac@comet-03-43 ~]$ \n",
    "```\n",
    "\n",
    "### In order to run a notebook, you have to load a singularity module, which creates an interactive shell inside the container:\n",
    "\n",
    "```\n",
    "[alishac@comet-03-43 ~]$ module load singularity\n",
    "[alishac@comet-03-43 ~]$ \n",
    "```\n",
    "\n",
    "### Check to see if the module has been downloaded using module list:\n",
    "\n",
    "```\n",
    "[alishac@comet-03-43 ~]$ module list\n",
    "Currently Loaded Modulefiles:\n",
    "  1) intel/2013_sp1.2.144   3) gnutools/2.69\n",
    "  2) mvapich2_ib/2.1        4) singularity/2.6.1\n",
    "[alishac@comet-03-43 ~]$ \n",
    "```\n",
    "* This should list the singularity module along with the modules already loaded into your enivronment\n",
    "\n",
    "## STEP 3\n",
    "\n",
    "### Once your singularity module is loaded, get an interactive shell:\n",
    "\n",
    "```\n",
    "[alishac@comet-03-43 ~]$ singularity shell /share/apps/gpu/singularity/sdsc_ubuntu_tf1.1_keras_R.img\n",
    "Singularity: Invoking an interactive shell within container...\n",
    "\n",
    "alishac@comet-03-43:~$ \n",
    "```\n",
    "\n",
    "## STEP 4\n",
    "\n",
    "### Lauch the Jupyter Notebook application by using this command:\n",
    "\n",
    "```\n",
    "alishac@comet-03-43:~$ ipython notebook --no-browser --ip=`/bin/hostname`\n",
    "[TerminalIPythonApp] WARNING | Subcommand `ipython notebook` is deprecated and will be removed in future versions.\n",
    "[TerminalIPythonApp] WARNING | You likely want to use `jupyter notebook` in the future\n",
    "[I 17:46:15.975 NotebookApp] Serving notebooks from local directory: /home/alishac\n",
    "[I 17:46:15.975 NotebookApp] 0 active kernels \n",
    "[I 17:46:15.975 NotebookApp] The Jupyter Notebook is running at: http://comet-03-43.sdsc.edu:8888/?token=049fb46a70368d4ca36b96c34da885f76ab327a6b606e140\n",
    "[I 17:46:15.975 NotebookApp] Use Control-C to stop this server and shut down all kernels (twice to skip confirmation).\n",
    "[C 17:46:15.977 NotebookApp] \n",
    "    \n",
    "    Copy/paste this URL into your browser when you connect for the first time,\n",
    "    to login with a token:\n",
    "        http://comet-03-43.sdsc.edu:8888/?token=049fb46a70368d4ca36b96c34da885f76ab327a6b606e140\n",
    "```\n",
    "This will give an URL which will connect your local web browser to the interactive comet session\n",
    "Copy and Paste it into your browser and you will be able to run a notebook on Comet!\n",
    "\n",
    "Note:\n",
    "* To exit out of a notebook, use control-C\n",
    "\n",
    "* To exit out of a node , use control-D\n",
    "\n",
    "* To exit out of Comet, use control-D or type exit"
   ]
  }
 ],
 "metadata": {
  "extensions": {
   "jupyter_dashboards": {
    "activeView": "grid_default",
    "version": 1,
    "views": {
     "grid_default": {
      "cellMargin": 10,
      "defaultCellHeight": 20,
      "maxColumns": 12,
      "name": "grid",
      "type": "grid"
     },
     "report_default": {
      "name": "report",
      "type": "report"
     }
    }
   }
  },
  "kernelspec": {
   "display_name": "Python 3",
   "language": "python",
   "name": "python3"
  },
  "language_info": {
   "codemirror_mode": {
    "name": "ipython",
    "version": 3
   },
   "file_extension": ".py",
   "mimetype": "text/x-python",
   "name": "python",
   "nbconvert_exporter": "python",
   "pygments_lexer": "ipython3",
   "version": "3.7.3"
  }
 },
 "nbformat": 4,
 "nbformat_minor": 4
}
