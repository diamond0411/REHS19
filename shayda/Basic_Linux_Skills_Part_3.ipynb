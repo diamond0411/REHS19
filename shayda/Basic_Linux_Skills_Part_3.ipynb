{
 "cells": [
  {
   "cell_type": "markdown",
   "metadata": {},
   "source": [
    "# Basic Linux Skills (a six-part tutorial)\n",
    "\n",
    "## Part 3: Manipulating Files"
   ]
  },
  {
   "cell_type": "markdown",
   "metadata": {},
   "source": [
    "This section will show you how to manipulate files: copying, listing, deleting and renaming Continuing with the testdir we created above, we can create files in many ways. One is to use the touch commmand, which will create a file with no contents:"
   ]
  },
  {
   "cell_type": "code",
   "execution_count": 18,
   "metadata": {},
   "outputs": [
    {
     "name": "stdout",
     "output_type": "stream",
     "text": [
      "total 0\n",
      "-rw-r--r--  1 shaydamoezzi  staff  0 23 Jul 22:46 filelisting.txt\n",
      "-rw-r--r--  1 shaydamoezzi  staff  0 23 Jul 22:46 myfile.txt\n",
      "-rw-r--r--  1 shaydamoezzi  staff  0 23 Jul 22:46 myfile2.txt\n",
      "-rw-r--r--  1 shaydamoezzi  staff  0 23 Jul 22:45 newfile.txt\n"
     ]
    }
   ],
   "source": [
    "%%bash\n",
    "cd testdir\n",
    "touch myfile.txt\n",
    "touch myfile2.txt\n",
    "touch filelisting.txt\n",
    "ls -l"
   ]
  },
  {
   "cell_type": "markdown",
   "metadata": {},
   "source": [
    "To copy a file from another directory to the current directory, use the full path. In this example, we will copy the filelisting.txt file from the directory above, using the .. (\"dot-dot\") variable for the directory location:\n",
    "\n"
   ]
  },
  {
   "cell_type": "code",
   "execution_count": 19,
   "metadata": {},
   "outputs": [
    {
     "name": "stdout",
     "output_type": "stream",
     "text": [
      "total 0\n",
      "-rw-r--r--  1 shaydamoezzi  staff  0 23 Jul 22:46 filelisting.txt\n",
      "-rw-r--r--  1 shaydamoezzi  staff  0 23 Jul 22:46 myfile.txt\n",
      "-rw-r--r--  1 shaydamoezzi  staff  0 23 Jul 22:46 myfile2.txt\n",
      "-rw-r--r--  1 shaydamoezzi  staff  0 23 Jul 22:45 newfile.txt\n"
     ]
    },
    {
     "name": "stderr",
     "output_type": "stream",
     "text": [
      "cp: ../filelisting.txt: No such file or directory\n"
     ]
    }
   ],
   "source": [
    "%%bash\n",
    "cd testdir\n",
    "cp ../filelisting.txt . \n",
    "ls -l"
   ]
  },
  {
   "cell_type": "markdown",
   "metadata": {},
   "source": [
    "To rename a file, use the mv (move) command:"
   ]
  },
  {
   "cell_type": "code",
   "execution_count": 20,
   "metadata": {},
   "outputs": [
    {
     "name": "stdout",
     "output_type": "stream",
     "text": [
      "total 0\n",
      "-rw-r--r--  1 shaydamoezzi  staff  0 23 Jul 22:46 filelisting.txt\n",
      "-rw-r--r--  1 shaydamoezzi  staff  0 23 Jul 22:46 myfile.txt\n",
      "-rw-r--r--  1 shaydamoezzi  staff  0 23 Jul 22:46 newfile.txt\n"
     ]
    }
   ],
   "source": [
    "%%bash\n",
    "cd testdir\n",
    "mv myfile2.txt newfile.txt\n",
    "ls -l"
   ]
  },
  {
   "cell_type": "markdown",
   "metadata": {},
   "source": [
    "To delete a file, use the rm (remove command):\n",
    "\n"
   ]
  },
  {
   "cell_type": "code",
   "execution_count": 21,
   "metadata": {},
   "outputs": [
    {
     "name": "stdout",
     "output_type": "stream",
     "text": [
      "total 0\n",
      "-rw-r--r--  1 shaydamoezzi  staff  0 23 Jul 22:46 filelisting.txt\n",
      "-rw-r--r--  1 shaydamoezzi  staff  0 23 Jul 22:46 newfile.txt\n"
     ]
    }
   ],
   "source": [
    "%%bash\n",
    "cd testdir\n",
    "rm myfile.txt\n",
    "ls -l"
   ]
  },
  {
   "cell_type": "markdown",
   "metadata": {},
   "source": [
    "## End of Part 3\n",
    "\n",
    "### Congratulations! You made it through part 3 of the Basic Linux Skills tutorial.\n",
    "### Continue to part 4 to learn about Copying Directories."
   ]
  }
 ],
 "metadata": {
  "kernelspec": {
   "display_name": "Python 3",
   "language": "python",
   "name": "python3"
  },
  "language_info": {
   "codemirror_mode": {
    "name": "ipython",
    "version": 3
   },
   "file_extension": ".py",
   "mimetype": "text/x-python",
   "name": "python",
   "nbconvert_exporter": "python",
   "pygments_lexer": "ipython3",
   "version": "3.6.4"
  }
 },
 "nbformat": 4,
 "nbformat_minor": 2
}
