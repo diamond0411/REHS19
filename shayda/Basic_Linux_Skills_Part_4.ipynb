{
 "cells": [
  {
   "cell_type": "markdown",
   "metadata": {},
   "source": [
    "# Basic Linux Skills (a six-part tutorial)\n",
    "\n",
    "## Part 4: Copying Directories"
   ]
  },
  {
   "cell_type": "markdown",
   "metadata": {},
   "source": [
    "A common task in computing is to work with examples and collaborator files. Suppose we want to copy the contents of another directory to our local directory. On Comet, there is a large suite of applications that you can work with. In this example, we will copy the GPU application folder. Suppose you are interested in working with one of the files or directories in the /share/apps/examples/ directory.\n",
    "\n",
    "First, we will make a folder to hold comet examples and then cd into that new directory. This is done using the mkdir command:"
   ]
  },
  {
   "cell_type": "code",
   "execution_count": 1,
   "metadata": {},
   "outputs": [
    {
     "name": "stdout",
     "output_type": "stream",
     "text": [
      "total 5048160\n",
      "drwxr-xr-x+  133 shaydamoezzi  staff        4522 23 Jul 22:48 .\n",
      "drwxr-xr-x     6 root          admin         204 10 Oct  2016 ..\n",
      "-r--------     1 shaydamoezzi  staff           7  4 Jan  2019 .CFUserTextEncoding\n",
      "-rw-r--r--@    1 shaydamoezzi  staff       26628 22 Jul 09:09 .DS_Store\n",
      "drwx------    30 shaydamoezzi  staff        1020 22 Jul 09:03 .Trash\n",
      "drwxr-xr-x     3 shaydamoezzi  staff         102  8 May  2018 .anaconda\n",
      "drwxr-xr-x    16 shaydamoezzi  staff         544  2 Nov  2018 .android\n",
      "-rw-r--r--     1 shaydamoezzi  staff         683  6 Jul  2017 .anyconnect\n",
      "drwxr-xr-x     3 shaydamoezzi  staff         102 21 Oct  2017 .appinventor\n",
      "drwxr-xr-x     6 shaydamoezzi  staff         204 28 May  2018 .arduino-create\n",
      "drwxr-xr-x     4 shaydamoezzi  staff         136  9 May  2018 .astropy\n",
      "drwxr-xr-x    17 shaydamoezzi  staff         578 11 Jul 10:12 .atom\n",
      "-rw-------     1 shaydamoezzi  staff       11345 20 Jul 22:17 .bash_history\n",
      "-rw-r--r--     1 shaydamoezzi  staff         336 16 Jul 10:40 .bash_profile\n",
      "-rw-r--r--     1 shaydamoezzi  staff         168 23 Apr  2018 .bash_profile-anaconda3.bak\n",
      "drwx------    91 shaydamoezzi  staff        3094 23 Jul 22:20 .bash_sessions\n",
      "drwxr-xr-x     3 shaydamoezzi  staff         102 19 Jun 11:00 .cache\n",
      "drwxr-xr-x     4 shaydamoezzi  staff         136 20 Jul 22:17 .conda\n",
      "-rw-r--r--     1 shaydamoezzi  staff          56 18 Jul 11:00 .condarc\n",
      "drwxr-xr-x     3 shaydamoezzi  staff         102 18 Dec  2017 .config\n",
      "drwx------     3 shaydamoezzi  staff         102  1 May  2017 .cups\n",
      "drwxr-xr-x     6 shaydamoezzi  staff         204  4 Aug  2017 .eclipse\n",
      "drwxr-xr-x     6 shaydamoezzi  staff         204 24 Jan  2018 .fontconfig\n",
      "drwxr-xr-x    14 shaydamoezzi  staff         476 18 Jul 11:32 .git\n",
      "-rw-r--r--     1 shaydamoezzi  staff         559  3 Jul 09:35 .gitconfig\n",
      "-rw-r--r--@    1 shaydamoezzi  staff         103  7 Oct  2018 .gitflow_export\n",
      "-rw-r--r--     1 shaydamoezzi  staff          13 11 Sep  2017 .gitignore_global\n",
      "drwxr-xr-x     8 shaydamoezzi  staff         272 25 Jun 09:35 .gradle\n",
      "-rw-r--r--     1 shaydamoezzi  staff          27 11 Sep  2017 .hgignore_global\n",
      "drwxr-xr-x     4 shaydamoezzi  staff         136 23 Apr  2018 .idlerc\n",
      "drwxr-xr-x    20 shaydamoezzi  staff         680 23 Jul 22:47 .ipynb_checkpoints\n",
      "drwxr-xr-x     5 shaydamoezzi  staff         170  8 May  2018 .ipython\n",
      "drwxr-xr-x     3 shaydamoezzi  staff         102  8 May  2018 .jupyter\n",
      "drwxr-xr-x     5 shaydamoezzi  staff         170 19 Jun 11:02 .matplotlib\n",
      "drwxr-xr-x    41 shaydamoezzi  staff        1394 28 May  2018 .oracle_jre_usage\n",
      "drwxr-xr-x     5 shaydamoezzi  staff         170  4 Aug  2017 .p2\n",
      "-rw-------     1 shaydamoezzi  staff        2405 26 Jun 09:11 .python_history\n",
      "drwxr-xr-x    16 shaydamoezzi  staff         544  1 Jul 11:38 .spyder-py3\n",
      "drwx------     5 shaydamoezzi  staff         170 18 Jul 07:49 .ssh\n",
      "drwxr-xr-x     3 shaydamoezzi  staff         102  4 Aug  2017 .tooling\n",
      "-rw-------     1 shaydamoezzi  staff        2098 27 Jun 10:08 .viminfo\n",
      "drwxr-xr-x    25 shaydamoezzi  staff         850 21 Apr  2018 11-13-2017-Excercises\n",
      "-rw-r--r--@    1 shaydamoezzi  staff      401527  1 Mar  2018 2018 SO C Schedule of Events copy.pdf\n",
      "-rw-r--r--@    1 shaydamoezzi  staff       98252  2 Mar  2018 2018CScheduleofEvents.Rv.3.1.2018 copy.pdf\n",
      "-rw-r--r--@    1 shaydamoezzi  staff   198034756 30 Jun  2018 ARIE 16th.mov\n",
      "drwxr-xr-x    12 shaydamoezzi  staff         408  9 Jul 10:14 ASOC\n",
      "drwxr-xr-x     2 shaydamoezzi  staff          68  8 May  2018 AnacondaProjects\n",
      "drwx------     8 shaydamoezzi  staff         272 16 Nov  2018 Applications\n",
      "-rw-r--r--     1 shaydamoezzi  staff       23972 23 Jul 22:35 Basic_Linux_Skills_Part_1.ipynb\n",
      "-rw-r--r--     1 shaydamoezzi  staff       37135 23 Jul 22:48 Basic_Linux_Skills_Part_2.ipynb\n",
      "-rw-r--r--     1 shaydamoezzi  staff        4185 23 Jul 22:47 Basic_Linux_Skills_Part_3.ipynb\n",
      "drwxr-xr-x    18 shaydamoezzi  staff         612 18 Jul 11:30 BoringStuff\n",
      "-rw-rw-r--@    1 shaydamoezzi  staff     6673115  8 Feb  2018 Close Your Eyes - Rhodes.mp3\n",
      "-rw-r--r--@    1 shaydamoezzi  staff  1003806783  6 Jun  2018 Daydreaming.mov\n",
      "drwx------+    5 shaydamoezzi  staff         170 22 Jul 09:09 Desktop\n",
      "-rw-r--r--     1 shaydamoezzi  staff         198  7 Oct  2017 DistaneBetweenVersion1.8xp\n",
      "drwx------+   69 shaydamoezzi  staff        2346 22 Jul 09:09 Documents\n",
      "drwx------+ 1187 shaydamoezzi  staff       40358 21 Jul 10:25 Downloads\n",
      "-rw-r--r--     1 shaydamoezzi  staff        2683 25 Jun 09:41 DriverControlled.java\n",
      "-rw-r--r--@    1 shaydamoezzi  staff       28718  9 May  2018 Figure_1.png\n",
      "-rw-r--r--     1 shaydamoezzi  staff          23 27 Nov  2018 HEAD\n",
      "drwxr-xr-x    16 shaydamoezzi  staff         544 25 Jun 09:36 IJava\n",
      "drwxr-xr-x     7 shaydamoezzi  staff         238  7 Oct  2017 IdeaProjects\n",
      "-rw-r--r--     1 shaydamoezzi  staff        2124 26 Jun 09:24 JavaNotebookTest.ipynb\n",
      "-rw-r--r--     1 shaydamoezzi  staff      255594 26 Jun 09:47 JavaTest.html\n",
      "-rw-r--r--     1 shaydamoezzi  staff        2730 27 Jun 09:52 JavaTest.ipynb\n",
      "drwx------@   70 shaydamoezzi  staff        2380 20 Jul 22:38 Library\n",
      "-rw-r--r--     1 shaydamoezzi  staff      155652 27 Jun 09:53 LoadingFITSData.ipynb\n",
      "drwx------+    8 shaydamoezzi  staff         272  9 Jun 00:53 Movies\n",
      "drwx------+    4 shaydamoezzi  staff         136 24 Oct  2016 Music\n",
      "-rw-r--r--     1 shaydamoezzi  staff         529 25 Jun 09:43 MyGraphics2DProgram.java\n",
      "drwx------+    6 shaydamoezzi  staff         204 15 Jun 18:38 Pictures\n",
      "drwxr-xr-x+    5 shaydamoezzi  staff         170 10 Oct  2016 Public\n",
      "drwxr-xr-x    27 shaydamoezzi  staff         918 20 Jun 10:23 PythonSeries\n",
      "-rw-r--r--     1 shaydamoezzi  staff         128  7 Oct  2017 QUADFORM.8xp\n",
      "drwxr-xr-x    10 shaydamoezzi  staff         340 18 Jul 09:33 REHS19\n",
      "-rw-rw-r--@    1 shaydamoezzi  staff     4377081 10 Feb  2018 RoboPuffs Comp.mp3\n",
      "drwxr-xr-x     7 shaydamoezzi  staff         238 26 Oct  2018 Robopuffs\n",
      "drwxr-xr-x    12 shaydamoezzi  staff         408 22 Feb 15:24 Robopuffs_2018-19\n",
      "drwxr-xr-x     3 shaydamoezzi  staff         102 27 Nov  2018 Robopuffs_Team_Code_27\n",
      "drwxr-xr-x     2 shaydamoezzi  staff          68 19 Jun 09:12 Stuff\n",
      "-rw-r--r--@    1 shaydamoezzi  staff   354358745 17 May  2018 Sunset 5:17.mov\n",
      "-rw-r--r--     1 shaydamoezzi  staff        1358 25 Jun 09:55 TestJava.ipynb\n",
      "drwxr-xr-x     2 shaydamoezzi  staff          68  9 May  2018 Untitled Folder\n",
      "-rw-r--r--     1 shaydamoezzi  staff          72 18 Nov  2018 Untitled.ipynb\n",
      "-rw-r--r--     1 shaydamoezzi  staff        1605 17 Jun 18:24 Untitled1.ipynb\n",
      "-rw-r--r--     1 shaydamoezzi  staff        2471  3 Jul 14:45 Untitled2.ipynb\n",
      "-rw-r--r--     1 shaydamoezzi  staff         279  9 Jul 10:46 Untitled3.ipynb\n",
      "-rw-r--r--     1 shaydamoezzi  staff         555  9 Jul 11:37 Untitled4.ipynb\n",
      "-rw-r--r--     1 shaydamoezzi  staff        2330  9 Jul 11:38 Untitled5.ipynb\n",
      "-rw-r--r--     1 shaydamoezzi  staff         793 16 Jul 09:20 Untitled6.ipynb\n",
      "-rw-r--r--     1 shaydamoezzi  staff          72 23 Jul 22:47 Untitled7.ipynb\n",
      "drwxr-xr-x    15 shaydamoezzi  staff         510 18 Jul 08:05 atom-notebook\n",
      "-rw-r--r--     1 shaydamoezzi  staff           0 11 Jul 11:34 authorized_keys\n",
      "-rw-r--r--     1 shaydamoezzi  staff           1 11 Jul 21:40 bash_profile\n",
      "drwxr-xr-x     2 shaydamoezzi  staff          68 27 Nov  2018 branches\n",
      "drwxr-xr-x     2 shaydamoezzi  staff          68 23 Jul 22:48 comet-examples\n",
      "-rw-r--r--     1 shaydamoezzi  staff         111 27 Nov  2018 config\n",
      "drwxr-xr-x     2 shaydamoezzi  staff          68 11 Jul 21:43 dad\n",
      "-rw-r--r--     1 shaydamoezzi  staff          73 27 Nov  2018 description\n",
      "-rw-r--r--@    1 shaydamoezzi  staff   132267327 21 Jun  2018 do u even skate.mov\n",
      "-rw-r--r--     1 shaydamoezzi  staff         948  3 Jul 14:21 environment-py27.yml\n",
      "drwxr-xr-x    18 shaydamoezzi  staff         612  2 Nov  2018 ftc_app\n",
      "drwxr-xr-x     6 shaydamoezzi  staff         204 21 Apr  2018 hi\n",
      "drwxr-xr-x    13 shaydamoezzi  staff         442 27 Nov  2018 hooks\n",
      "-rw-r--r--     1 shaydamoezzi  staff        1132  9 Jul 10:45 importingFITS.ipynb\n",
      "drwxr-xr-x     3 shaydamoezzi  staff         102 27 Nov  2018 info\n",
      "-rw-------     1 shaydamoezzi  staff        1679 16 Jul 13:51 key\n",
      "-rw-r--r--     1 shaydamoezzi  staff         416 16 Jul 13:51 key.pub\n",
      "-rw-r--r--@    1 shaydamoezzi  staff   144715312 23 Apr  2018 london.mov\n",
      "-rw-r--r--@    1 shaydamoezzi  staff   179462033  7 May  2018 london_inthewind.mov\n",
      "drwxr-xr-x    40 shaydamoezzi  staff        1360 19 Jun 11:00 matplotlib\n",
      "drwxr-xr-x     8 shaydamoezzi  staff         272  7 Jun 18:26 mblock\n",
      "drwxr-xr-x     4 shaydamoezzi  staff         136  7 Jun 18:26 mblock5\n",
      "-rw-r--r--     1 shaydamoezzi  staff           0 23 Jul 22:40 myfile.txt\n",
      "-rw-r--r--     1 shaydamoezzi  staff           0 23 Jul 22:40 myfile2.txt\n",
      "-rw-------     1 shaydamoezzi  staff        1679 16 Jul 10:07 mykey\n",
      "-rw-r--r--     1 shaydamoezzi  staff         416 16 Jul 10:07 mykey.pub\n",
      "-rw-r--r--@    1 shaydamoezzi  staff    77845065 10 Apr  2018 national sib day.mov\n",
      "-rw-r--r--     1 shaydamoezzi  staff       21358 26 Jun 10:13 notebook.tex\n",
      "drwxr-xr-x     4 shaydamoezzi  staff         136 27 Nov  2018 objects\n",
      "-rw-r--r--     1 shaydamoezzi  staff        7089 26 Jun 10:13 output_4_1.png\n",
      "-rw-r--r--     1 shaydamoezzi  staff        6180 26 Jun 10:13 output_5_2.png\n",
      "-rw-r--r--     1 shaydamoezzi  staff       91157 26 Jun 10:13 output_6_0.png\n",
      "-rw-r--r--     1 shaydamoezzi  staff       16198  9 Jul 09:03 pK Lab  - AP Chemistry.ipynb\n",
      "-rw-r--r--@    1 shaydamoezzi  staff           0  8 Jul 21:38 pk-lab-data.csv\n",
      "drwxr-xr-x     6 shaydamoezzi  staff         204 18 Jul 11:32 planets\n",
      "drwxr-xr-x     4 shaydamoezzi  staff         136 27 Nov  2018 refs\n",
      "-rw-r--r--@    1 shaydamoezzi  staff   481595929 18 May  2018 sunset 5:18.mov\n",
      "-rw-r--r--     1 shaydamoezzi  staff      129202  9 Jul 11:14 testUsingLibrary.ipynb\n",
      "drwxr-xr-x     4 shaydamoezzi  staff         136 23 Jul 22:46 testdir\n",
      "drwxr-xr-x     3 shaydamoezzi  staff         102 27 Nov  2018 testing\n",
      "drwxr-xr-x     3 shaydamoezzi  staff         102 27 Nov  2018 thenewone\n"
     ]
    }
   ],
   "source": [
    "%%bash\n",
    "mkdir comet-examples\n",
    "ls -al"
   ]
  },
  {
   "cell_type": "code",
   "execution_count": 3,
   "metadata": {},
   "outputs": [
    {
     "name": "stdout",
     "output_type": "stream",
     "text": [
      "/Users/shaydamoezzi/comet-examples\n"
     ]
    }
   ],
   "source": [
    "%%bash\n",
    "cd comet-examples/\n",
    "pwd"
   ]
  },
  {
   "cell_type": "markdown",
   "metadata": {},
   "source": [
    "Next, we will look at the directory where the OPENMP code is stored:\n",
    "\n"
   ]
  },
  {
   "cell_type": "code",
   "execution_count": 4,
   "metadata": {},
   "outputs": [
    {
     "name": "stdout",
     "output_type": "stream",
     "text": [
      "ls: /share/apps/examples/OPENMP/: No such file or directory\r\n"
     ]
    }
   ],
   "source": [
    "! ls -al /share/apps/examples/OPENMP/"
   ]
  },
  {
   "cell_type": "markdown",
   "metadata": {},
   "source": [
    "Copies of files and directories use the same command: cp. To copy a single file to the comet-examples directory, we need to use the full path:"
   ]
  },
  {
   "cell_type": "code",
   "execution_count": 5,
   "metadata": {},
   "outputs": [
    {
     "name": "stdout",
     "output_type": "stream",
     "text": [
      "total 5048184\n",
      "drwxr-xr-x+  133 shaydamoezzi  staff        4522 23 Jul 22:49 .\n",
      "drwxr-xr-x     6 root          admin         204 10 Oct  2016 ..\n",
      "-r--------     1 shaydamoezzi  staff           7  4 Jan  2019 .CFUserTextEncoding\n",
      "-rw-r--r--@    1 shaydamoezzi  staff       26628 22 Jul 09:09 .DS_Store\n",
      "drwx------    30 shaydamoezzi  staff        1020 22 Jul 09:03 .Trash\n",
      "drwxr-xr-x     3 shaydamoezzi  staff         102  8 May  2018 .anaconda\n",
      "drwxr-xr-x    16 shaydamoezzi  staff         544  2 Nov  2018 .android\n",
      "-rw-r--r--     1 shaydamoezzi  staff         683  6 Jul  2017 .anyconnect\n",
      "drwxr-xr-x     3 shaydamoezzi  staff         102 21 Oct  2017 .appinventor\n",
      "drwxr-xr-x     6 shaydamoezzi  staff         204 28 May  2018 .arduino-create\n",
      "drwxr-xr-x     4 shaydamoezzi  staff         136  9 May  2018 .astropy\n",
      "drwxr-xr-x    17 shaydamoezzi  staff         578 11 Jul 10:12 .atom\n",
      "-rw-------     1 shaydamoezzi  staff       11345 20 Jul 22:17 .bash_history\n",
      "-rw-r--r--     1 shaydamoezzi  staff         336 16 Jul 10:40 .bash_profile\n",
      "-rw-r--r--     1 shaydamoezzi  staff         168 23 Apr  2018 .bash_profile-anaconda3.bak\n",
      "drwx------    91 shaydamoezzi  staff        3094 23 Jul 22:20 .bash_sessions\n",
      "drwxr-xr-x     3 shaydamoezzi  staff         102 19 Jun 11:00 .cache\n",
      "drwxr-xr-x     4 shaydamoezzi  staff         136 20 Jul 22:17 .conda\n",
      "-rw-r--r--     1 shaydamoezzi  staff          56 18 Jul 11:00 .condarc\n",
      "drwxr-xr-x     3 shaydamoezzi  staff         102 18 Dec  2017 .config\n",
      "drwx------     3 shaydamoezzi  staff         102  1 May  2017 .cups\n",
      "drwxr-xr-x     6 shaydamoezzi  staff         204  4 Aug  2017 .eclipse\n",
      "drwxr-xr-x     6 shaydamoezzi  staff         204 24 Jan  2018 .fontconfig\n",
      "drwxr-xr-x    14 shaydamoezzi  staff         476 18 Jul 11:32 .git\n",
      "-rw-r--r--     1 shaydamoezzi  staff         559  3 Jul 09:35 .gitconfig\n",
      "-rw-r--r--@    1 shaydamoezzi  staff         103  7 Oct  2018 .gitflow_export\n",
      "-rw-r--r--     1 shaydamoezzi  staff          13 11 Sep  2017 .gitignore_global\n",
      "drwxr-xr-x     8 shaydamoezzi  staff         272 25 Jun 09:35 .gradle\n",
      "-rw-r--r--     1 shaydamoezzi  staff          27 11 Sep  2017 .hgignore_global\n",
      "drwxr-xr-x     4 shaydamoezzi  staff         136 23 Apr  2018 .idlerc\n",
      "drwxr-xr-x    20 shaydamoezzi  staff         680 23 Jul 22:47 .ipynb_checkpoints\n",
      "drwxr-xr-x     5 shaydamoezzi  staff         170  8 May  2018 .ipython\n",
      "drwxr-xr-x     3 shaydamoezzi  staff         102  8 May  2018 .jupyter\n",
      "drwxr-xr-x     5 shaydamoezzi  staff         170 19 Jun 11:02 .matplotlib\n",
      "drwxr-xr-x    41 shaydamoezzi  staff        1394 28 May  2018 .oracle_jre_usage\n",
      "drwxr-xr-x     5 shaydamoezzi  staff         170  4 Aug  2017 .p2\n",
      "-rw-------     1 shaydamoezzi  staff        2405 26 Jun 09:11 .python_history\n",
      "drwxr-xr-x    16 shaydamoezzi  staff         544  1 Jul 11:38 .spyder-py3\n",
      "drwx------     5 shaydamoezzi  staff         170 18 Jul 07:49 .ssh\n",
      "drwxr-xr-x     3 shaydamoezzi  staff         102  4 Aug  2017 .tooling\n",
      "-rw-------     1 shaydamoezzi  staff        2098 27 Jun 10:08 .viminfo\n",
      "drwxr-xr-x    25 shaydamoezzi  staff         850 21 Apr  2018 11-13-2017-Excercises\n",
      "-rw-r--r--@    1 shaydamoezzi  staff      401527  1 Mar  2018 2018 SO C Schedule of Events copy.pdf\n",
      "-rw-r--r--@    1 shaydamoezzi  staff       98252  2 Mar  2018 2018CScheduleofEvents.Rv.3.1.2018 copy.pdf\n",
      "-rw-r--r--@    1 shaydamoezzi  staff   198034756 30 Jun  2018 ARIE 16th.mov\n",
      "drwxr-xr-x    12 shaydamoezzi  staff         408  9 Jul 10:14 ASOC\n",
      "drwxr-xr-x     2 shaydamoezzi  staff          68  8 May  2018 AnacondaProjects\n",
      "drwx------     8 shaydamoezzi  staff         272 16 Nov  2018 Applications\n",
      "-rw-r--r--     1 shaydamoezzi  staff       23972 23 Jul 22:35 Basic_Linux_Skills_Part_1.ipynb\n",
      "-rw-r--r--     1 shaydamoezzi  staff       37135 23 Jul 22:48 Basic_Linux_Skills_Part_2.ipynb\n",
      "-rw-r--r--     1 shaydamoezzi  staff        4185 23 Jul 22:47 Basic_Linux_Skills_Part_3.ipynb\n",
      "drwxr-xr-x    18 shaydamoezzi  staff         612 18 Jul 11:30 BoringStuff\n",
      "-rw-rw-r--@    1 shaydamoezzi  staff     6673115  8 Feb  2018 Close Your Eyes - Rhodes.mp3\n",
      "-rw-r--r--@    1 shaydamoezzi  staff  1003806783  6 Jun  2018 Daydreaming.mov\n",
      "drwx------+    5 shaydamoezzi  staff         170 22 Jul 09:09 Desktop\n",
      "-rw-r--r--     1 shaydamoezzi  staff         198  7 Oct  2017 DistaneBetweenVersion1.8xp\n",
      "drwx------+   69 shaydamoezzi  staff        2346 22 Jul 09:09 Documents\n",
      "drwx------+ 1187 shaydamoezzi  staff       40358 21 Jul 10:25 Downloads\n",
      "-rw-r--r--     1 shaydamoezzi  staff        2683 25 Jun 09:41 DriverControlled.java\n",
      "-rw-r--r--@    1 shaydamoezzi  staff       28718  9 May  2018 Figure_1.png\n",
      "-rw-r--r--     1 shaydamoezzi  staff          23 27 Nov  2018 HEAD\n",
      "drwxr-xr-x    16 shaydamoezzi  staff         544 25 Jun 09:36 IJava\n",
      "drwxr-xr-x     7 shaydamoezzi  staff         238  7 Oct  2017 IdeaProjects\n",
      "-rw-r--r--     1 shaydamoezzi  staff        2124 26 Jun 09:24 JavaNotebookTest.ipynb\n",
      "-rw-r--r--     1 shaydamoezzi  staff      255594 26 Jun 09:47 JavaTest.html\n",
      "-rw-r--r--     1 shaydamoezzi  staff        2730 27 Jun 09:52 JavaTest.ipynb\n",
      "drwx------@   70 shaydamoezzi  staff        2380 20 Jul 22:38 Library\n",
      "-rw-r--r--     1 shaydamoezzi  staff      155652 27 Jun 09:53 LoadingFITSData.ipynb\n",
      "drwx------+    8 shaydamoezzi  staff         272  9 Jun 00:53 Movies\n",
      "drwx------+    4 shaydamoezzi  staff         136 24 Oct  2016 Music\n",
      "-rw-r--r--     1 shaydamoezzi  staff         529 25 Jun 09:43 MyGraphics2DProgram.java\n",
      "drwx------+    6 shaydamoezzi  staff         204 15 Jun 18:38 Pictures\n",
      "drwxr-xr-x+    5 shaydamoezzi  staff         170 10 Oct  2016 Public\n",
      "drwxr-xr-x    27 shaydamoezzi  staff         918 20 Jun 10:23 PythonSeries\n",
      "-rw-r--r--     1 shaydamoezzi  staff         128  7 Oct  2017 QUADFORM.8xp\n",
      "drwxr-xr-x    10 shaydamoezzi  staff         340 18 Jul 09:33 REHS19\n",
      "-rw-rw-r--@    1 shaydamoezzi  staff     4377081 10 Feb  2018 RoboPuffs Comp.mp3\n",
      "drwxr-xr-x     7 shaydamoezzi  staff         238 26 Oct  2018 Robopuffs\n",
      "drwxr-xr-x    12 shaydamoezzi  staff         408 22 Feb 15:24 Robopuffs_2018-19\n",
      "drwxr-xr-x     3 shaydamoezzi  staff         102 27 Nov  2018 Robopuffs_Team_Code_27\n",
      "drwxr-xr-x     2 shaydamoezzi  staff          68 19 Jun 09:12 Stuff\n",
      "-rw-r--r--@    1 shaydamoezzi  staff   354358745 17 May  2018 Sunset 5:17.mov\n",
      "-rw-r--r--     1 shaydamoezzi  staff        1358 25 Jun 09:55 TestJava.ipynb\n",
      "drwxr-xr-x     2 shaydamoezzi  staff          68  9 May  2018 Untitled Folder\n",
      "-rw-r--r--     1 shaydamoezzi  staff          72 18 Nov  2018 Untitled.ipynb\n",
      "-rw-r--r--     1 shaydamoezzi  staff        1605 17 Jun 18:24 Untitled1.ipynb\n",
      "-rw-r--r--     1 shaydamoezzi  staff        2471  3 Jul 14:45 Untitled2.ipynb\n",
      "-rw-r--r--     1 shaydamoezzi  staff         279  9 Jul 10:46 Untitled3.ipynb\n",
      "-rw-r--r--     1 shaydamoezzi  staff         555  9 Jul 11:37 Untitled4.ipynb\n",
      "-rw-r--r--     1 shaydamoezzi  staff        2330  9 Jul 11:38 Untitled5.ipynb\n",
      "-rw-r--r--     1 shaydamoezzi  staff         793 16 Jul 09:20 Untitled6.ipynb\n",
      "-rw-r--r--     1 shaydamoezzi  staff       14084 23 Jul 22:49 Untitled7.ipynb\n",
      "drwxr-xr-x    15 shaydamoezzi  staff         510 18 Jul 08:05 atom-notebook\n",
      "-rw-r--r--     1 shaydamoezzi  staff           0 11 Jul 11:34 authorized_keys\n",
      "-rw-r--r--     1 shaydamoezzi  staff           1 11 Jul 21:40 bash_profile\n",
      "drwxr-xr-x     2 shaydamoezzi  staff          68 27 Nov  2018 branches\n",
      "drwxr-xr-x     2 shaydamoezzi  staff          68 23 Jul 22:48 comet-examples\n",
      "-rw-r--r--     1 shaydamoezzi  staff         111 27 Nov  2018 config\n",
      "drwxr-xr-x     2 shaydamoezzi  staff          68 11 Jul 21:43 dad\n",
      "-rw-r--r--     1 shaydamoezzi  staff          73 27 Nov  2018 description\n",
      "-rw-r--r--@    1 shaydamoezzi  staff   132267327 21 Jun  2018 do u even skate.mov\n",
      "-rw-r--r--     1 shaydamoezzi  staff         948  3 Jul 14:21 environment-py27.yml\n",
      "drwxr-xr-x    18 shaydamoezzi  staff         612  2 Nov  2018 ftc_app\n",
      "drwxr-xr-x     6 shaydamoezzi  staff         204 21 Apr  2018 hi\n",
      "drwxr-xr-x    13 shaydamoezzi  staff         442 27 Nov  2018 hooks\n",
      "-rw-r--r--     1 shaydamoezzi  staff        1132  9 Jul 10:45 importingFITS.ipynb\n",
      "drwxr-xr-x     3 shaydamoezzi  staff         102 27 Nov  2018 info\n",
      "-rw-------     1 shaydamoezzi  staff        1679 16 Jul 13:51 key\n",
      "-rw-r--r--     1 shaydamoezzi  staff         416 16 Jul 13:51 key.pub\n",
      "-rw-r--r--@    1 shaydamoezzi  staff   144715312 23 Apr  2018 london.mov\n",
      "-rw-r--r--@    1 shaydamoezzi  staff   179462033  7 May  2018 london_inthewind.mov\n",
      "drwxr-xr-x    40 shaydamoezzi  staff        1360 19 Jun 11:00 matplotlib\n",
      "drwxr-xr-x     8 shaydamoezzi  staff         272  7 Jun 18:26 mblock\n",
      "drwxr-xr-x     4 shaydamoezzi  staff         136  7 Jun 18:26 mblock5\n",
      "-rw-r--r--     1 shaydamoezzi  staff           0 23 Jul 22:40 myfile.txt\n",
      "-rw-r--r--     1 shaydamoezzi  staff           0 23 Jul 22:40 myfile2.txt\n",
      "-rw-------     1 shaydamoezzi  staff        1679 16 Jul 10:07 mykey\n",
      "-rw-r--r--     1 shaydamoezzi  staff         416 16 Jul 10:07 mykey.pub\n",
      "-rw-r--r--@    1 shaydamoezzi  staff    77845065 10 Apr  2018 national sib day.mov\n",
      "-rw-r--r--     1 shaydamoezzi  staff       21358 26 Jun 10:13 notebook.tex\n",
      "drwxr-xr-x     4 shaydamoezzi  staff         136 27 Nov  2018 objects\n",
      "-rw-r--r--     1 shaydamoezzi  staff        7089 26 Jun 10:13 output_4_1.png\n",
      "-rw-r--r--     1 shaydamoezzi  staff        6180 26 Jun 10:13 output_5_2.png\n",
      "-rw-r--r--     1 shaydamoezzi  staff       91157 26 Jun 10:13 output_6_0.png\n",
      "-rw-r--r--     1 shaydamoezzi  staff       16198  9 Jul 09:03 pK Lab  - AP Chemistry.ipynb\n",
      "-rw-r--r--@    1 shaydamoezzi  staff           0  8 Jul 21:38 pk-lab-data.csv\n",
      "drwxr-xr-x     6 shaydamoezzi  staff         204 18 Jul 11:32 planets\n",
      "drwxr-xr-x     4 shaydamoezzi  staff         136 27 Nov  2018 refs\n",
      "-rw-r--r--@    1 shaydamoezzi  staff   481595929 18 May  2018 sunset 5:18.mov\n",
      "-rw-r--r--     1 shaydamoezzi  staff      129202  9 Jul 11:14 testUsingLibrary.ipynb\n",
      "drwxr-xr-x     4 shaydamoezzi  staff         136 23 Jul 22:46 testdir\n",
      "drwxr-xr-x     3 shaydamoezzi  staff         102 27 Nov  2018 testing\n",
      "drwxr-xr-x     3 shaydamoezzi  staff         102 27 Nov  2018 thenewone\n"
     ]
    },
    {
     "name": "stderr",
     "output_type": "stream",
     "text": [
      "cp: /share/apps/examples/OPENMP/hello_openmp.f90: No such file or directory\n"
     ]
    }
   ],
   "source": [
    "%%bash\n",
    "cp /share/apps/examples/OPENMP/hello_openmp.f90 hello_openmp.f90\n",
    "ls -al"
   ]
  },
  {
   "cell_type": "markdown",
   "metadata": {},
   "source": [
    "For a large number of files, it is easier to copy the entire directory using the -R or -r recursive command:\n",
    "\n"
   ]
  },
  {
   "cell_type": "code",
   "execution_count": 7,
   "metadata": {},
   "outputs": [
    {
     "name": "stderr",
     "output_type": "stream",
     "text": [
      "cp: /share/apps/examples/OPENMP/: No such file or directory\n",
      "bash: line 2: ll: command not found\n"
     ]
    }
   ],
   "source": [
    "%%bash\n",
    "cp -r -p /share/apps/examples/OPENMP/ .\n",
    "ll\n"
   ]
  },
  {
   "cell_type": "markdown",
   "metadata": {},
   "source": [
    "There are several things to observe with this command:\n",
    "\n",
    "1. The owner of these new files is the user who ran the commands (mthomas).\n",
    "2. The use of the -r argument is a recursive copy, which gets all files in the directory.\n",
    "3. The use of the -p arguement preserves the date/timestamp, which can be helpful but not always required.\n",
    "4. The use of one of the special dot characters, . in the command above: the syntax tells the operating system to copy all contents of the /share/apps/examples/OPENMP/ directory to the . directory, or the current directory, which in this case is:"
   ]
  },
  {
   "cell_type": "code",
   "execution_count": 11,
   "metadata": {},
   "outputs": [
    {
     "name": "stdout",
     "output_type": "stream",
     "text": [
      "/Users/shaydamoezzi/comet-examples\n",
      "total 0\n",
      "drwxr-xr-x    2 shaydamoezzi  staff    68 23 Jul 22:48 .\n",
      "drwxr-xr-x+ 133 shaydamoezzi  staff  4522 23 Jul 22:51 ..\n"
     ]
    }
   ],
   "source": [
    "%%bash\n",
    "cd comet-examples/\n",
    "pwd\n",
    "ls -al"
   ]
  },
  {
   "cell_type": "markdown",
   "metadata": {},
   "source": [
    "You can also copy a file or directory and give it a new name:"
   ]
  },
  {
   "cell_type": "code",
   "execution_count": 15,
   "metadata": {},
   "outputs": [
    {
     "name": "stderr",
     "output_type": "stream",
     "text": [
      "cp: /share/apps/examples/OPENMP/: No such file or directory\n",
      "bash: line 3: ll: command not found\n",
      "bash: line 4: ll: command not found\n"
     ]
    }
   ],
   "source": [
    "%%bash\n",
    "cd comet-examples/\n",
    "cp -r -p /share/apps/examples/OPENMP/ FOOBAR  \n",
    "ll\n",
    "ll FOOBAR"
   ]
  },
  {
   "cell_type": "markdown",
   "metadata": {},
   "source": [
    "You can rename a directory using the mv command:\n",
    "\n"
   ]
  },
  {
   "cell_type": "code",
   "execution_count": 17,
   "metadata": {},
   "outputs": [
    {
     "name": "stderr",
     "output_type": "stream",
     "text": [
      "mv: rename FOOBAR/ to OPENMP_DUP: No such file or directory\n"
     ]
    }
   ],
   "source": [
    "%%bash\n",
    "cd comet-examples/\n",
    "mv FOOBAR/ OPENMP_DUP\n",
    "/bin/ls -l"
   ]
  },
  {
   "cell_type": "markdown",
   "metadata": {},
   "source": [
    "To move to the directory, use the cd (change directory)\n",
    "\n"
   ]
  },
  {
   "cell_type": "code",
   "execution_count": 20,
   "metadata": {},
   "outputs": [
    {
     "name": "stdout",
     "output_type": "stream",
     "text": [
      "/Users/shaydamoezzi/comet-examples\n",
      "/Users/shaydamoezzi/comet-examples\n",
      "total 0\n",
      "drwxr-xr-x    2 shaydamoezzi  staff    68 23 Jul 22:48 .\n",
      "drwxr-xr-x+ 133 shaydamoezzi  staff  4522 23 Jul 22:55 ..\n"
     ]
    },
    {
     "name": "stderr",
     "output_type": "stream",
     "text": [
      "bash: line 3: cd: OPENMP/: No such file or directory\n"
     ]
    }
   ],
   "source": [
    "%%bash\n",
    "cd comet-examples/\n",
    "pwd\n",
    "cd OPENMP/\n",
    "pwd\n",
    "ls -al"
   ]
  },
  {
   "cell_type": "markdown",
   "metadata": {},
   "source": [
    "You can sort the order of the file listings by date (or size or other fields -- see the man pages). The default file listing in alphabetic, to see the files in chronological order (or reverse):"
   ]
  },
  {
   "cell_type": "code",
   "execution_count": 22,
   "metadata": {},
   "outputs": [
    {
     "name": "stderr",
     "output_type": "stream",
     "text": [
      "ls: OPENMP/: No such file or directory\n",
      "ls: OPENMP/: No such file or directory\n"
     ]
    }
   ],
   "source": [
    "%%bash\n",
    "cd comet-examples/\n",
    "ls -alt OPENMP/\n",
    "ls -altr OPENMP/"
   ]
  },
  {
   "cell_type": "markdown",
   "metadata": {},
   "source": [
    "## End of Part 4\n",
    "\n",
    "### Congratulations! You made it through part 4 of the Basic Linux Skills tutorial.\n",
    "### Continue to part 5 to learn about Permissions."
   ]
  }
 ],
 "metadata": {
  "kernelspec": {
   "display_name": "Python 3",
   "language": "python",
   "name": "python3"
  },
  "language_info": {
   "codemirror_mode": {
    "name": "ipython",
    "version": 3
   },
   "file_extension": ".py",
   "mimetype": "text/x-python",
   "name": "python",
   "nbconvert_exporter": "python",
   "pygments_lexer": "ipython3",
   "version": "3.6.4"
  }
 },
 "nbformat": 4,
 "nbformat_minor": 2
}
