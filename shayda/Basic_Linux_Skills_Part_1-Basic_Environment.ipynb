{
 "cells": [
  {
   "cell_type": "markdown",
   "metadata": {},
   "source": [
    "# Basic Linux Skills (a six-part tutorial)\n",
    "\n",
    "### Overview: \n",
    "When you log on to Comet, your computer operating system will be a Unix shell. \"A Unix shell is a command-line interpreter or shell that provides a traditional Unix-like command line user interface. This environment is very different from the easy to use GUI interfaces we have all become used in the Windows and MacOS systems\" (https://en.wikipedia.org/wiki/Unix_shell).\n",
    "\n",
    "Basic Linux skills are necessary to complete the hands-on exercises. If it’s been a while since you’ve worked in a Linux environment, be sure to reacquaint yourself with the following topic (many of which are demonstrated below)s: copying, listing, deleting and renaming files; using wildcards; navigating directories; changing file permissions; setting environment variables; using common utilities (grep, cat, less, head, sort, tar, gzip). A nice tutorial can be found here http://www.ee.surrey.ac.uk/Teaching/Unix/. You should also be comfortable with one of the standard Linux editors, such as vim, emacs, or nano.\n",
    "\n",
    "You should also be comfortable with one of the standard Linux editors, such as vim, emacs, or nano.\n",
    "\n",
    "Notes:\n",
    "\n",
    "For the examples below, we are using the bash shell, which is the default shell for new accounts on Comet. For the purposes of following SDSC tutorials and exercises, please do not change the shell."
   ]
  },
  {
   "cell_type": "markdown",
   "metadata": {},
   "source": [
    "## Part 1: Basic Environment"
   ]
  },
  {
   "cell_type": "markdown",
   "metadata": {},
   "source": [
    "Using Unix commands, we can learn a lot about the machine we are logged onto. Some of the commands are simple:"
   ]
  },
  {
   "cell_type": "code",
   "execution_count": 1,
   "metadata": {},
   "outputs": [
    {
     "name": "stdout",
     "output_type": "stream",
     "text": [
      "Tue 23 Jul 2019 22:24:15 PDT\r\n"
     ]
    }
   ],
   "source": [
    "! date"
   ]
  },
  {
   "cell_type": "code",
   "execution_count": 2,
   "metadata": {},
   "outputs": [
    {
     "name": "stdout",
     "output_type": "stream",
     "text": [
      "Shaydas-MacBook.san.rr.com\r\n"
     ]
    }
   ],
   "source": [
    "! hostname"
   ]
  },
  {
   "cell_type": "code",
   "execution_count": 4,
   "metadata": {},
   "outputs": [
    {
     "name": "stdout",
     "output_type": "stream",
     "text": [
      "shaydamoezzi\r\n"
     ]
    }
   ],
   "source": [
    "! whoami"
   ]
  },
  {
   "cell_type": "markdown",
   "metadata": {},
   "source": [
    "Note: To learn about most unix commands, try accessing the man pages:"
   ]
  },
  {
   "cell_type": "code",
   "execution_count": 5,
   "metadata": {},
   "outputs": [
    {
     "name": "stdout",
     "output_type": "stream",
     "text": [
      "\r\n",
      "DATE(1)                   BSD General Commands Manual                  DATE(1)\r\n",
      "\r\n",
      "N\bNA\bAM\bME\bE\r\n",
      "     d\bda\bat\bte\be -- display or set date and time\r\n",
      "\r\n",
      "S\bSY\bYN\bNO\bOP\bPS\bSI\bIS\bS\r\n",
      "     d\bda\bat\bte\be [-\b-j\bjR\bRu\bu] [-\b-r\br _\bs_\be_\bc_\bo_\bn_\bd_\bs | _\bf_\bi_\bl_\be_\bn_\ba_\bm_\be] [-\b-v\bv [+\b+|-\b-]_\bv_\ba_\bl[_\by_\bm_\bw_\bd_\bH_\bM_\bS]] _\b._\b._\b.\r\n",
      "          [+\b+_\bo_\bu_\bt_\bp_\bu_\bt_\b__\bf_\bm_\bt]\r\n",
      "     d\bda\bat\bte\be [-\b-j\bjn\bnu\bu] [[[_\bm_\bm]_\bd_\bd]_\bH_\bH]_\bM_\bM[[_\bc_\bc]_\by_\by][_\b._\bs_\bs]\r\n",
      "     d\bda\bat\bte\be [-\b-j\bjn\bnR\bRu\bu] -\b-f\bf _\bi_\bn_\bp_\bu_\bt_\b__\bf_\bm_\bt _\bn_\be_\bw_\b__\bd_\ba_\bt_\be [+\b+_\bo_\bu_\bt_\bp_\bu_\bt_\b__\bf_\bm_\bt]\r\n",
      "     d\bda\bat\bte\be [-\b-d\bd _\bd_\bs_\bt] [-\b-t\bt _\bm_\bi_\bn_\bu_\bt_\be_\bs_\b__\bw_\be_\bs_\bt]\r\n",
      "\r\n",
      "D\bDE\bES\bSC\bCR\bRI\bIP\bPT\bTI\bIO\bON\bN\r\n",
      "     When invoked without arguments, the d\bda\bat\bte\be utility displays the current\r\n",
      "     date and time.  Otherwise, depending on the options specified, d\bda\bat\bte\be will\r\n",
      "     set the date and time or print it in a user-defined way.\r\n",
      "\r\n",
      "     The d\bda\bat\bte\be utility displays the date and time read from the kernel clock.\r\n",
      "     When used to set the date and time, both the kernel clock and the hard-\r\n",
      "     ware clock are updated.\r\n",
      "\r\n",
      "     Only the superuser may set the date, and if the system securelevel (see\r\n",
      "     securelevel(7)) is greater than 1, the time may not be changed by more\r\n",
      "     than 1 second.\r\n",
      "\r\n",
      "     The options are as follows:\r\n",
      "\r\n",
      "     -\b-d\bd _\bd_\bs_\bt  Set the kernel's value for daylight saving time.  If _\bd_\bs_\bt is non-\r\n",
      "             zero, future calls to gettimeofday(2) will return a non-zero for\r\n",
      "             _\bt_\bz_\b__\bd_\bs_\bt_\bt_\bi_\bm_\be.\r\n",
      "\r\n",
      "     -\b-f\bf      Use _\bi_\bn_\bp_\bu_\bt_\b__\bf_\bm_\bt as the format string to parse the _\bn_\be_\bw_\b__\bd_\ba_\bt_\be provided\r\n",
      "             rather than using the default [[[_\bm_\bm]_\bd_\bd]_\bH_\bH]_\bM_\bM[[_\bc_\bc]_\by_\by][_\b._\bs_\bs] format.\r\n",
      "             Parsing is done using strptime(3).\r\n",
      "\r\n",
      "     -\b-j\bj      Do not try to set the date.  This allows you to use the -\b-f\bf flag\r\n",
      "             in addition to the +\b+ option to convert one date format to\r\n",
      "             another.\r\n",
      "\r\n",
      "     -\b-n\bn      By default, if the timed(8) daemon is running, d\bda\bat\bte\be sets the time\r\n",
      "             on all of the machines in the local group.  The -\b-n\bn option sup-\r\n",
      "             presses this behavior and causes the time to be set only on the\r\n",
      "             current machine.\r\n",
      "\r\n",
      "     -\b-R\bR      Use RFC 2822 date and time output format. This is equivalent to\r\n",
      "             use ``%a, %d %b %Y %T %z'' as _\bo_\bu_\bt_\bp_\bu_\bt_\b__\bf_\bm_\bt while LC_TIME is set to\r\n",
      "             the ``C'' locale .\r\n",
      "\r\n",
      "     -\b-r\br _\bs_\be_\bc_\bo_\bn_\bd_\bs\r\n",
      "             Print the date and time represented by _\bs_\be_\bc_\bo_\bn_\bd_\bs, where _\bs_\be_\bc_\bo_\bn_\bd_\bs is\r\n",
      "             the number of seconds since the Epoch (00:00:00 UTC, January 1,\r\n",
      "             1970; see time(3)), and can be specified in decimal, octal, or\r\n",
      "             hex.\r\n",
      "\r\n",
      "     -\b-r\br _\bf_\bi_\bl_\be_\bn_\ba_\bm_\be\r\n",
      "             Print the date and time of the last modification of _\bf_\bi_\bl_\be_\bn_\ba_\bm_\be.\r\n",
      "\r\n",
      "     -\b-t\bt _\bm_\bi_\bn_\bu_\bt_\be_\bs_\b__\bw_\be_\bs_\bt\r\n",
      "             Set the system's value for minutes west of GMT.  _\bm_\bi_\bn_\bu_\bt_\be_\bs_\b__\bw_\be_\bs_\bt\r\n",
      "             specifies the number of minutes returned in _\bt_\bz_\b__\bm_\bi_\bn_\bu_\bt_\be_\bs_\bw_\be_\bs_\bt by\r\n",
      "             future calls to gettimeofday(2).\r\n",
      "\r\n",
      "     -\b-u\bu      Display or set the date in UTC (Coordinated Universal) time.\r\n",
      "\r\n",
      "     -\b-v\bv      Adjust (i.e., take the current date and display the result of the\r\n",
      "             adjustment; not actually set the date) the second, minute, hour,\r\n",
      "             month day, week day, month or year according to _\bv_\ba_\bl.  If _\bv_\ba_\bl is\r\n",
      "             preceded with a plus or minus sign, the date is adjusted forwards\r\n",
      "             or backwards according to the remaining string, otherwise the\r\n",
      "             relevant part of the date is set.  The date can be adjusted as\r\n",
      "             many times as required using these flags.  Flags are processed in\r\n",
      "             the order given.\r\n",
      "\r\n",
      "             When setting values (rather than adjusting them), seconds are in\r\n",
      "             the range 0-59, minutes are in the range 0-59, hours are in the\r\n",
      "             range 0-23, month days are in the range 1-31, week days are in\r\n",
      "             the range 0-6 (Sun-Sat), months are in the range 1-12 (Jan-Dec)\r\n",
      "             and years are in the range 80-38 or 1980-2038.\r\n",
      "\r\n",
      "             If _\bv_\ba_\bl is numeric, one of either _\by, _\bm, _\bw, _\bd, _\bH, _\bM or _\bS must be\r\n",
      "             used to specify which part of the date is to be adjusted.\r\n",
      "\r\n",
      "             The week day or month may be specified using a name rather than a\r\n",
      "             number.  If a name is used with the plus (or minus) sign, the\r\n",
      "             date will be put forwards (or backwards) to the next (previous)\r\n",
      "             date that matches the given week day or month.  This will not\r\n",
      "             adjust the date, if the given week day or month is the same as\r\n",
      "             the current one.\r\n",
      "\r\n",
      "             When a date is adjusted to a specific value or in units greater\r\n",
      "             than hours, daylight savings time considerations are ignored.\r\n",
      "             Adjustments in units of hours or less honor daylight saving time.\r\n",
      "             So, assuming the current date is March 26, 0:30 and that the DST\r\n",
      "             adjustment means that the clock goes forward at 01:00 to 02:00,\r\n",
      "             using -\b-v\bv +1H will adjust the date to March 26, 2:30.  Likewise,\r\n",
      "             if the date is October 29, 0:30 and the DST adjustment means that\r\n",
      "             the clock goes back at 02:00 to 01:00, using -\b-v\bv +3H will be nec-\r\n",
      "             essary to reach October 29, 2:30.\r\n",
      "\r\n",
      "             When the date is adjusted to a specific value that does not actu-\r\n",
      "             ally exist (for example March 26, 1:30 BST 2000 in the\r\n",
      "             Europe/London timezone), the date will be silently adjusted for-\r\n",
      "             wards in units of one hour until it reaches a valid time.  When\r\n",
      "             the date is adjusted to a specific value that occurs twice (for\r\n",
      "             example October 29, 1:30 2000), the resulting timezone will be\r\n",
      "             set so that the date matches the earlier of the two times.\r\n",
      "\r\n",
      "             It is not possible to adjust a date to an invalid absolute day,\r\n",
      "             so using the switches -\b-v\bv 31d -\b-v\bv 12m will simply fail five months\r\n",
      "             of the year.  It is therefore usual to set the month before set-\r\n",
      "             ting the day; using -\b-v\bv 12m -\b-v\bv 31d always works.\r\n",
      "\r\n",
      "             Adjusting the date by months is inherently ambiguous because a\r\n",
      "             month is a unit of variable length depending on the current date.\r\n",
      "             This kind of date adjustment is applied in the most intuitive\r\n",
      "             way.  First of all, d\bda\bat\bte\be tries to preserve the day of the month.\r\n",
      "             If it is impossible because the target month is shorter than the\r\n",
      "             present one, the last day of the target month will be the result.\r\n",
      "             For example, using -\b-v\bv +1m on May 31 will adjust the date to June\r\n",
      "             30, while using the same option on January 30 will result in the\r\n",
      "             date adjusted to the last day of February.  This approach is also\r\n",
      "             believed to make the most sense for shell scripting.  Neverthe-\r\n",
      "             less, be aware that going forth and back by the same number of\r\n",
      "             months may take you to a different date.\r\n",
      "\r\n",
      "             Refer to the examples below for further details.\r\n",
      "\r\n",
      "     An operand with a leading plus (`+') sign signals a user-defined format\r\n",
      "     string which specifies the format in which to display the date and time.\r\n",
      "     The format string may contain any of the conversion specifications\r\n",
      "     described in the strftime(3) manual page, as well as any arbitrary text.\r\n",
      "     A newline (`\\n') character is always output after the characters speci-\r\n",
      "     fied by the format string.  The format string for the default display is\r\n",
      "     ``+%+''.\r\n",
      "\r\n",
      "     If an operand does not have a leading plus sign, it is interpreted as a\r\n",
      "     value for setting the system's notion of the current date and time.  The\r\n",
      "     canonical representation for setting the date and time is:\r\n",
      "\r\n",
      "           _\bc_\bc      Century (either 19 or 20) prepended to the abbreviated\r\n",
      "                   year.\r\n",
      "           _\by_\by      Year in abbreviated form (e.g., 89 for 1989, 06 for 2006).\r\n",
      "           _\bm_\bm      Numeric month, a number from 1 to 12.\r\n",
      "           _\bd_\bd      Day, a number from 1 to 31.\r\n",
      "           _\bH_\bH      Hour, a number from 0 to 23.\r\n",
      "           _\bM_\bM      Minutes, a number from 0 to 59.\r\n",
      "           _\bs_\bs      Seconds, a number from 0 to 61 (59 plus a maximum of two\r\n",
      "                   leap seconds).\r\n",
      "\r\n",
      "     Everything but the minutes is optional.\r\n",
      "\r\n",
      "     Time changes for Daylight Saving Time, standard time, leap seconds, and\r\n",
      "     leap years are handled automatically.\r\n",
      "\r\n",
      "E\bEN\bNV\bVI\bIR\bRO\bON\bNM\bME\bEN\bNT\bT\r\n",
      "     The following environment variables affect the execution of d\bda\bat\bte\be:\r\n",
      "\r\n",
      "     TZ      The timezone to use when displaying dates.  The normal format is\r\n",
      "             a pathname relative to _\b/_\bu_\bs_\br_\b/_\bs_\bh_\ba_\br_\be_\b/_\bz_\bo_\bn_\be_\bi_\bn_\bf_\bo.  For example, the\r\n",
      "             command ``TZ=America/Los_Angeles date'' displays the current time\r\n",
      "             in California.  See environ(7) for more information.\r\n",
      "\r\n",
      "F\bFI\bIL\bLE\bES\bS\r\n",
      "     /var/log/messages  record of the user setting the time\r\n",
      "\r\n",
      "E\bEX\bXI\bIT\bT S\bST\bTA\bAT\bTU\bUS\bS\r\n",
      "     The d\bda\bat\bte\be utility exits 0 on success, 1 if unable to set the date, and 2\r\n",
      "     if able to set the local date, but unable to set it globally.\r\n",
      "\r\n",
      "E\bEX\bXA\bAM\bMP\bPL\bLE\bES\bS\r\n",
      "     The command:\r\n",
      "\r\n",
      "           date \"+DATE: %Y-%m-%d%nTIME: %H:%M:%S\"\r\n",
      "\r\n",
      "     will display:\r\n",
      "\r\n",
      "           DATE: 1987-11-21\r\n",
      "           TIME: 13:36:16\r\n",
      "\r\n",
      "     In the Europe/London timezone, the command:\r\n",
      "\r\n",
      "           date -v1m -v+1y\r\n",
      "\r\n",
      "     will display:\r\n",
      "\r\n",
      "           Sun Jan  4 04:15:24 GMT 1998\r\n",
      "\r\n",
      "     where it is currently Mon Aug  4 04:15:24 BST 1997.\r\n",
      "\r\n",
      "     The command:\r\n",
      "\r\n",
      "           date -v1d -v3m -v0y -v-1d\r\n",
      "\r\n",
      "     will display the last day of February in the year 2000:\r\n",
      "\r\n",
      "           Tue Feb 29 03:18:00 GMT 2000\r\n",
      "\r\n",
      "     So will the command:\r\n",
      "\r\n",
      "           date -v3m -v30d -v0y -v-1m\r\n",
      "\r\n",
      "     because there is no such date as the 30th of February.\r\n",
      "\r\n",
      "     The command:\r\n",
      "\r\n",
      "           date -v1d -v+1m -v-1d -v-fri\r\n",
      "\r\n",
      "     will display the last Friday of the month:\r\n",
      "\r\n",
      "           Fri Aug 29 04:31:11 BST 1997\r\n",
      "\r\n",
      "     where it is currently Mon Aug  4 04:31:11 BST 1997.\r\n",
      "\r\n",
      "     The command:\r\n",
      "\r\n",
      "           date 0613162785\r\n",
      "\r\n",
      "     sets the date to ``June 13, 1985, 4:27 PM''.\r\n",
      "\r\n",
      "           date \"+%m%d%H%M%Y.%S\"\r\n",
      "\r\n",
      "     may be used on one machine to print out the date suitable for setting on\r\n",
      "     another.\r\n",
      "\r\n",
      "     The command:\r\n",
      "\r\n",
      "           date 1432\r\n",
      "\r\n",
      "     sets the time to 2:32 PM, without modifying the date.\r\n",
      "\r\n",
      "     Finally the command:\r\n",
      "\r\n",
      "           date -j -f \"%a %b %d %T %Z %Y\" \"`date`\" \"+%s\"\r\n",
      "\r\n",
      "     can be used to parse the output from d\bda\bat\bte\be and express it in Epoch time.\r\n",
      "\r\n",
      "D\bDI\bIA\bAG\bGN\bNO\bOS\bST\bTI\bIC\bCS\bS\r\n",
      "     Occasionally, when timed(8) synchronizes the time on many hosts, the set-\r\n",
      "     ting of a new time value may require more than a few seconds.  On these\r\n",
      "     occasions, d\bda\bat\bte\be prints: `Network time being set'.  The message\r\n",
      "     `Communication error with timed' occurs when the communication between\r\n",
      "     d\bda\bat\bte\be and timed(8) fails.\r\n",
      "\r\n",
      "L\bLE\bEG\bGA\bAC\bCY\bY S\bSY\bYN\bNO\bOP\bPS\bSI\bIS\bS\r\n",
      "     As above, except for the second line, which is:\r\n",
      "\r\n",
      "     d\bda\bat\bte\be [-\b-j\bjn\bnu\bu] [[[[[_\bc_\bc]_\by_\by]_\bm_\bm]_\bd_\bd]_\bH_\bH]_\bM_\bM[_\b._\bs_\bs]\r\n",
      "\r\n",
      "L\bLE\bEG\bGA\bAC\bCY\bY D\bDI\bIA\bAG\bGN\bNO\bOS\bST\bTI\bIC\bCS\bS\r\n",
      "     When invoked in legacy mode, the following exit values are returned:\r\n",
      "     0  The date was written successfully\r\n",
      "     1  Unable to set the date\r\n",
      "     2  Able to set the local date, but unable to set it globally\r\n",
      "\r\n",
      "     For more information about legacy mode, see compat(5).\r\n",
      "\r\n",
      "S\bSE\bEE\bE A\bAL\bLS\bSO\bO\r\n",
      "     locale(1), gettimeofday(2), getutxent(3), strftime(3), strptime(3),\r\n",
      "     timed(8)\r\n",
      "\r\n",
      "     R. Gusella and S. Zatti, _\bT_\bS_\bP_\b: _\bT_\bh_\be _\bT_\bi_\bm_\be _\bS_\by_\bn_\bc_\bh_\br_\bo_\bn_\bi_\bz_\ba_\bt_\bi_\bo_\bn _\bP_\br_\bo_\bt_\bo_\bc_\bo_\bl _\bf_\bo_\br _\bU_\bN_\bI_\bX\r\n",
      "     _\b4_\b._\b3_\bB_\bS_\bD.\r\n",
      "\r\n",
      "S\bST\bTA\bAN\bND\bDA\bAR\bRD\bDS\bS\r\n",
      "     The d\bda\bat\bte\be utility is expected to be compatible with IEEE Std 1003.2\r\n",
      "     (``POSIX.2'').  The -\b-d\bd, -\b-f\bf, -\b-j\bj, -\b-n\bn, -\b-r\br, -\b-t\bt, and -\b-v\bv options are all exten-\r\n",
      "     sions to the standard.\r\n",
      "\r\n",
      "H\bHI\bIS\bST\bTO\bOR\bRY\bY\r\n",
      "     A d\bda\bat\bte\be command appeared in Version 1 AT&T UNIX.\r\n",
      "\r\n",
      "BSD                               May 7, 2015                              BSD\r\n"
     ]
    }
   ],
   "source": [
    "! man date"
   ]
  },
  {
   "cell_type": "markdown",
   "metadata": {},
   "source": [
    "The unix command env will print out the environment settings for your login session. The list below is an edited summary of all the information"
   ]
  },
  {
   "cell_type": "code",
   "execution_count": 6,
   "metadata": {},
   "outputs": [
    {
     "name": "stdout",
     "output_type": "stream",
     "text": [
      "TERM_PROGRAM=Apple_Terminal\r\n",
      "TERM=xterm-color\r\n",
      "SHELL=/bin/bash\r\n",
      "CLICOLOR=1\r\n",
      "TMPDIR=/var/folders/yc/4_45803s7t52sqgk13_863bm0000gn/T/\r\n",
      "Apple_PubSub_Socket_Render=/private/tmp/com.apple.launchd.8WagpSHNqn/Render\r\n",
      "TERM_PROGRAM_VERSION=388.1.3\r\n",
      "TERM_SESSION_ID=BDF2A21D-1930-49DD-9610-F19AC80F0E00\r\n",
      "USER=shaydamoezzi\r\n",
      "SSH_AUTH_SOCK=/private/tmp/com.apple.launchd.Fw4dMJamrK/Listeners\r\n",
      "__CF_USER_TEXT_ENCODING=0x1F5:0x0:0x2\r\n",
      "JPY_PARENT_PID=51599\r\n",
      "PAGER=cat\r\n",
      "PATH=/anaconda3/bin:/anaconda3/bin:/Library/Frameworks/Python.framework/Versions/3.6/bin:/usr/local/bin:/usr/bin:/bin:/usr/sbin:/sbin\r\n",
      "_=/usr/bin/env\r\n",
      "PWD=/Users/shaydamoezzi\r\n",
      "MPLBACKEND=module://ipykernel.pylab.backend_inline\r\n",
      "LANG=en_GB.UTF-8\r\n",
      "XPC_FLAGS=0x0\r\n",
      "XPC_SERVICE_NAME=0\r\n",
      "HOME=/Users/shaydamoezzi\r\n",
      "SHLVL=2\r\n",
      "LOGNAME=shaydamoezzi\r\n",
      "GIT_PAGER=cat\r\n"
     ]
    }
   ],
   "source": [
    "! env"
   ]
  },
  {
   "cell_type": "markdown",
   "metadata": {},
   "source": [
    "It is often useful to print out (or use) environment variables. To print them out, use the echo command, and $ sign (which extracts the value of the shell variable):"
   ]
  },
  {
   "cell_type": "code",
   "execution_count": 8,
   "metadata": {},
   "outputs": [
    {
     "name": "stdout",
     "output_type": "stream",
     "text": [
      "/bin/bash\n",
      "/Users/shaydamoezzi\n"
     ]
    }
   ],
   "source": [
    "! echo $SHELL\n",
    "! echo $HOME"
   ]
  },
  {
   "cell_type": "markdown",
   "metadata": {},
   "source": [
    "Another important environment variable is the home directory variable, the \"tilde\" character: ~\n",
    "\n"
   ]
  },
  {
   "cell_type": "code",
   "execution_count": 10,
   "metadata": {},
   "outputs": [
    {
     "name": "stdout",
     "output_type": "stream",
     "text": [
      "/Users/shaydamoezzi\r\n"
     ]
    }
   ],
   "source": [
    "! echo ~"
   ]
  },
  {
   "cell_type": "markdown",
   "metadata": {},
   "source": [
    "You can create your own environment variables:\n",
    "\n"
   ]
  },
  {
   "cell_type": "code",
   "execution_count": 15,
   "metadata": {},
   "outputs": [
    {
     "name": "stdout",
     "output_type": "stream",
     "text": [
      "Shayda Moezzi\n"
     ]
    }
   ],
   "source": [
    "%%bash\n",
    "MY_NAME=\"Shayda Moezzi\"\n",
    "echo $MY_NAME"
   ]
  },
  {
   "cell_type": "markdown",
   "metadata": {},
   "source": [
    "Unix has the concept of users and groups. Users can be in more than one group. To see which groups you are a member of, use the group command:"
   ]
  },
  {
   "cell_type": "code",
   "execution_count": 16,
   "metadata": {},
   "outputs": [
    {
     "name": "stdout",
     "output_type": "stream",
     "text": [
      "staff boinc_project everyone localaccounts _appserverusr admin _appserveradm _lpadmin com.apple.sharepoint.group.1 boinc_master _appstore _lpoperator _developer com.apple.access_ftp com.apple.access_screensharing com.apple.access_ssh\r\n"
     ]
    }
   ],
   "source": [
    "! groups"
   ]
  },
  {
   "cell_type": "markdown",
   "metadata": {},
   "source": [
    "## End of Part 1\n",
    "\n",
    "### Congratulations! You made it through part 1 of the Basic Linux Skills tutorial.\n",
    "### Continue to part 2 to learn about Directories and Navigation."
   ]
  }
 ],
 "metadata": {
  "kernelspec": {
   "display_name": "Python 3",
   "language": "python",
   "name": "python3"
  },
  "language_info": {
   "codemirror_mode": {
    "name": "ipython",
    "version": 3
   },
   "file_extension": ".py",
   "mimetype": "text/x-python",
   "name": "python",
   "nbconvert_exporter": "python",
   "pygments_lexer": "ipython3",
   "version": "3.6.4"
  }
 },
 "nbformat": 4,
 "nbformat_minor": 2
}
