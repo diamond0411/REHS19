{
 "cells": [
  {
   "cell_type": "code",
   "execution_count": 1,
   "metadata": {},
   "outputs": [
    {
     "name": "stdout",
     "output_type": "stream",
     "text": [
      "A Jupyter kernel for bash\n",
      "\n",
      "Testing the use of bash in a notebook.\n",
      "Based on the  bash kernel for notebooks found here:\n",
      "https://github.com/takluyver/bash_kernel\n",
      "    \n",
      "This requires IPython 3.\n",
      "\n",
      "To install:\n",
      "\n",
      "pip install bash_kernel\n",
      "python -m bash_kernel.install\n"
     ]
    }
   ],
   "source": [
    "echo \"A Jupyter kernel for bash\n",
    "\n",
    "Testing the use of bash in a notebook.\n",
    "Based on the  bash kernel for notebooks found here:\n",
    "https://github.com/takluyver/bash_kernel\n",
    "    \n",
    "This requires IPython 3.\n",
    "\n",
    "To install:\n",
    "\n",
    "pip install bash_kernel\n",
    "python -m bash_kernel.install\""
   ]
  },
  {
   "cell_type": "code",
   "execution_count": 2,
   "metadata": {},
   "outputs": [
    {
     "name": "stdout",
     "output_type": "stream",
     "text": [
      "total 64\n",
      "drwxr-xr-x  11 mthomas  staff    352 Aug  2 12:12 .\n",
      "drwxr-xr-x  12 mthomas  staff    384 Aug  2 11:58 ..\n",
      "drwxr-xr-x   3 mthomas  staff     96 Aug  2 12:06 .ipynb_checkpoints\n",
      "drwxr-xr-x   7 mthomas  staff    224 Jul 18 11:33 0_preparation\n",
      "drwxr-xr-x   6 mthomas  staff    192 Jul 18 11:55 3_running_jobs_on_comet\n",
      "drwxr-xr-x   8 mthomas  staff    256 Jul 18 08:49 hello\n",
      "drwxr-xr-x   6 mthomas  staff    192 Jul 18 08:49 java.nb\n",
      "-rw-r--r--   1 mthomas  staff   2102 Jul 18 08:49 random-ans.ipynb\n",
      "-rw-r--r--   1 mthomas  staff   5111 Aug  2 12:12 test_bash.ipynb\n",
      "-rw-r--r--   1 mthomas  staff  19315 Jul 18 08:49 trapezoid.ipynb\n",
      "drwxr-xr-x   5 mthomas  staff    160 Jul 18 08:49 xkcd_plots\n"
     ]
    }
   ],
   "source": [
    "ls -al"
   ]
  },
  {
   "cell_type": "code",
   "execution_count": null,
   "metadata": {},
   "outputs": [],
   "source": [
    "pwd"
   ]
  },
  {
   "cell_type": "code",
   "execution_count": null,
   "metadata": {},
   "outputs": [],
   "source": [
    "cd .."
   ]
  },
  {
   "cell_type": "code",
   "execution_count": null,
   "metadata": {},
   "outputs": [],
   "source": [
    "pwd"
   ]
  },
  {
   "cell_type": "code",
   "execution_count": null,
   "metadata": {},
   "outputs": [],
   "source": [
    "cd "
   ]
  },
  {
   "cell_type": "code",
   "execution_count": null,
   "metadata": {},
   "outputs": [],
   "source": [
    "pwd"
   ]
  },
  {
   "cell_type": "code",
   "execution_count": null,
   "metadata": {},
   "outputs": [],
   "source": []
  },
  {
   "cell_type": "code",
   "execution_count": null,
   "metadata": {},
   "outputs": [],
   "source": []
  },
  {
   "cell_type": "code",
   "execution_count": null,
   "metadata": {},
   "outputs": [],
   "source": []
  }
 ],
 "metadata": {
  "kernelspec": {
   "display_name": "Bash",
   "language": "bash",
   "name": "bash"
  },
  "language_info": {
   "codemirror_mode": "shell",
   "file_extension": ".sh",
   "mimetype": "text/x-sh",
   "name": "bash"
  }
 },
 "nbformat": 4,
 "nbformat_minor": 4
}
