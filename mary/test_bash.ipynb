{
 "cells": [
  {
   "cell_type": "code",
   "execution_count": 9,
   "metadata": {},
   "outputs": [
    {
     "ename": "ModuleNotFoundError",
     "evalue": "No module named 'bash'",
     "output_type": "error",
     "traceback": [
      "\u001b[0;31m---------------------------------------------------------------------------\u001b[0m",
      "\u001b[0;31mModuleNotFoundError\u001b[0m                       Traceback (most recent call last)",
      "\u001b[0;32m<ipython-input-9-6530a7ff8ecc>\u001b[0m in \u001b[0;36m<module>\u001b[0;34m\u001b[0m\n\u001b[0;32m----> 1\u001b[0;31m \u001b[0;32mimport\u001b[0m \u001b[0mbash\u001b[0m\u001b[0;34m\u001b[0m\u001b[0;34m\u001b[0m\u001b[0m\n\u001b[0m",
      "\u001b[0;31mModuleNotFoundError\u001b[0m: No module named 'bash'"
     ]
    }
   ],
   "source": [
    "import bash"
   ]
  },
  {
   "cell_type": "code",
   "execution_count": 10,
   "metadata": {},
   "outputs": [
    {
     "ename": "SyntaxError",
     "evalue": "EOL while scanning string literal (<ipython-input-10-3ad5d3516d67>, line 1)",
     "output_type": "error",
     "traceback": [
      "\u001b[0;36m  File \u001b[0;32m\"<ipython-input-10-3ad5d3516d67>\"\u001b[0;36m, line \u001b[0;32m1\u001b[0m\n\u001b[0;31m    echo \"A Jupyter kernel for bash\u001b[0m\n\u001b[0m                                   ^\u001b[0m\n\u001b[0;31mSyntaxError\u001b[0m\u001b[0;31m:\u001b[0m EOL while scanning string literal\n"
     ]
    }
   ],
   "source": [
    "echo \"A Jupyter kernel for bash\n",
    "\n",
    "Testing the use of bash in a notebook.\n",
    "Based on the  bash kernel for notebooks found here:\n",
    "https://github.com/takluyver/bash_kernel\n",
    "    \n",
    "This requires IPython 3.\n",
    "\n",
    "To install:\n",
    "\n",
    "pip install bash_kernel\n",
    "python -m bash_kernel.install\""
   ]
  },
  {
   "cell_type": "code",
   "execution_count": 11,
   "metadata": {},
   "outputs": [
    {
     "name": "stdout",
     "output_type": "stream",
     "text": [
      "total 64\r\n",
      "drwxr-xr-x  11 mthomas  staff    352 Aug  2 12:10 \u001b[34m.\u001b[m\u001b[m/\r\n",
      "drwxr-xr-x  12 mthomas  staff    384 Aug  2 11:58 \u001b[34m..\u001b[m\u001b[m/\r\n",
      "drwxr-xr-x   3 mthomas  staff     96 Aug  2 12:06 \u001b[34m.ipynb_checkpoints\u001b[m\u001b[m/\r\n",
      "drwxr-xr-x   7 mthomas  staff    224 Jul 18 11:33 \u001b[34m0_preparation\u001b[m\u001b[m/\r\n",
      "drwxr-xr-x   6 mthomas  staff    192 Jul 18 11:55 \u001b[34m3_running_jobs_on_comet\u001b[m\u001b[m/\r\n",
      "drwxr-xr-x   8 mthomas  staff    256 Jul 18 08:49 \u001b[34mhello\u001b[m\u001b[m/\r\n",
      "drwxr-xr-x   6 mthomas  staff    192 Jul 18 08:49 \u001b[34mjava.nb\u001b[m\u001b[m/\r\n",
      "-rw-r--r--   1 mthomas  staff   2102 Jul 18 08:49 random-ans.ipynb\r\n",
      "-rw-r--r--   1 mthomas  staff   4392 Aug  2 12:10 test_bash.ipynb\r\n",
      "-rw-r--r--   1 mthomas  staff  19315 Jul 18 08:49 trapezoid.ipynb\r\n",
      "drwxr-xr-x   5 mthomas  staff    160 Jul 18 08:49 \u001b[34mxkcd_plots\u001b[m\u001b[m/\r\n"
     ]
    }
   ],
   "source": [
    "ls -al"
   ]
  },
  {
   "cell_type": "code",
   "execution_count": 12,
   "metadata": {},
   "outputs": [
    {
     "data": {
      "text/plain": [
       "'/Users/mthomas/dev/REHS19/mary'"
      ]
     },
     "execution_count": 12,
     "metadata": {},
     "output_type": "execute_result"
    }
   ],
   "source": [
    "pwd"
   ]
  },
  {
   "cell_type": "code",
   "execution_count": 13,
   "metadata": {},
   "outputs": [
    {
     "name": "stdout",
     "output_type": "stream",
     "text": [
      "/Users/mthomas/dev/REHS19\n"
     ]
    }
   ],
   "source": [
    "cd .."
   ]
  },
  {
   "cell_type": "code",
   "execution_count": 14,
   "metadata": {},
   "outputs": [
    {
     "data": {
      "text/plain": [
       "'/Users/mthomas/dev/REHS19'"
      ]
     },
     "execution_count": 14,
     "metadata": {},
     "output_type": "execute_result"
    }
   ],
   "source": [
    "pwd"
   ]
  },
  {
   "cell_type": "code",
   "execution_count": 15,
   "metadata": {},
   "outputs": [
    {
     "name": "stdout",
     "output_type": "stream",
     "text": [
      "/Users/mthomas\n"
     ]
    }
   ],
   "source": [
    "cd "
   ]
  },
  {
   "cell_type": "code",
   "execution_count": 16,
   "metadata": {},
   "outputs": [
    {
     "data": {
      "text/plain": [
       "'/Users/mthomas'"
      ]
     },
     "execution_count": 16,
     "metadata": {},
     "output_type": "execute_result"
    }
   ],
   "source": [
    "pwd"
   ]
  },
  {
   "cell_type": "code",
   "execution_count": null,
   "metadata": {},
   "outputs": [],
   "source": []
  }
 ],
 "metadata": {
  "kernelspec": {
   "display_name": "Python 3",
   "language": "python",
   "name": "python3"
  },
  "language_info": {
   "codemirror_mode": {
    "name": "ipython",
    "version": 3
   },
   "file_extension": ".py",
   "mimetype": "text/x-python",
   "name": "python",
   "nbconvert_exporter": "python",
   "pygments_lexer": "ipython3",
   "version": "3.7.3"
  }
 },
 "nbformat": 4,
 "nbformat_minor": 4
}
