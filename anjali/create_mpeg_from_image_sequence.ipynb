{
 "cells": [
  {
   "cell_type": "markdown",
   "metadata": {},
   "source": [
    "# Images to .mpeg Python Script \n",
    "### This code example processes a sequence of images using multiple steps to create an MPEG movie as a result. \n",
    "#### The comments provide additional context for each command.\n",
    "First import necessary modules to run the script. <font color='purple'>Image</font>  allows you to open the image sequence required to create the mpeg. <font color='purple'>Math</font> allows you to do various math functions with python. <font color='purple'>OS</font> enables operating system dependent functionality. <font color='purple'>ImageIO</font> enables you to convert the final set of 2D images into an mpeg"
   ]
  },
  {
   "cell_type": "code",
   "execution_count": 1,
   "metadata": {},
   "outputs": [],
   "source": [
    "from PIL import Image\n",
    "import math\n",
    "import os\n",
    "import imageio"
   ]
  },
  {
   "cell_type": "markdown",
   "metadata": {},
   "source": [
    "This section reads in a sequence of images,extracts a square region, and resaves them as new images."
   ]
  },
  {
   "cell_type": "code",
   "execution_count": null,
   "metadata": {},
   "outputs": [],
   "source": [
    "# Identify the location of the images in the image sequence\n",
    "dir = 'C:/Users/anjal/Downloads/create_mpeg_from_image_sequence/create_mpeg_from_image_sequence/25x25simple/png_rect_subtract_min_norm_blur/'\n",
    "# Create a variable that can be traversed for each image in dir\n",
    "filenames = next(os.walk(dir))[2]\n",
    "for filename in filenames: # Traverse through all the filenames (or images) in dir\n",
    "    print(\"Working on file:\" + filename) # Print a progress statement\n",
    "\n",
    "    im = Image.open(dir + filename) # Can be many different formats.\n",
    "    pix = im.load() #Load the image\n",
    "    print(im.size)  # Get the width and height of the image for iterating over and display it to the user\n",
    "    hw = im.size # Create a variable that will store the size of the image\n",
    "    width = hw[0] # Obtain the width from the size list\n",
    "    height = hw[1] # Obtain the height from the size list\n",
    "    \n",
    "    im2 = Image.open('C:/Users/anjal/Downloads/create_mpeg_from_image_sequence/create_mpeg_from_image_sequence/25x25simple/g2_square_535x535.png') # Can be many different formats.\n",
    "    pix2 = im2.load() # Load a blank image of the desired dimensions (In this case 535x535)\n",
    "    print(im2.size)  # Obtain the width and height of the image for iterating over\n",
    "    \n",
    "    # Copy the RGBA value of each pixel within the desired range of the image onto the blank image of desired dimensions\n",
    "    for i in range(257,792):\n",
    "        for j in range(208,743):\n",
    "            x = i - 257\n",
    "            y = j - 208\n",
    "            pix2[x,y] = pix[i,j] \n",
    "                   \n",
    "    # Save the modified pixels as .png\n",
    "    im2.save('C:/Users/anjal/Downloads/create_mpeg_from_image_sequence/create_mpeg_from_image_sequence/25x25simple/squares_subtract_min_norm/' + filename) \n"
   ]
  },
  {
   "cell_type": "markdown",
   "metadata": {},
   "source": [
    "Now the cropped image must be projected onto the final template to ultimately form the mpeg file"
   ]
  },
  {
   "cell_type": "code",
   "execution_count": null,
   "metadata": {},
   "outputs": [],
   "source": [
    "# Access the directory in which the cropped images are found\n",
    "dir = 'C:/Users/anjal/Downloads/create_mpeg_from_image_sequence/create_mpeg_from_image_sequence/25x25simple/squares_subtract_min_norm/'\n",
    "\n",
    "inc = 0\n",
    "filenames = next(os.walk(dir))[2] # Create a variable that can be traversed for each image in dir\n",
    "for filename in filenames: # Traverse through the filenames (or images) in the final image directory\n",
    "    print(\"Creating Final 2D Map for:\" + filename) # Print a progress statement\n",
    "    im = Image.open(dir + filename) # Can be many different formats.\n",
    "    pix = im.load() # Load the image\n",
    "    print(im.size)  # Get the width and hight of the image for iterating over\n",
    "    hw = im.size # Create a variable that will store the size of the image\n",
    "    width = hw[0] # Obtain the width from the size list\n",
    "    height = hw[1] # Obtain the height from the size list\n",
    "    half_height = round(0.5*height)\n",
    "    half_width = round(0.5*width)\n",
    "    \n",
    "    im2 = Image.open('C:/Users/anjal/Downloads/create_mpeg_from_image_sequence/create_mpeg_from_image_sequence/25x25simple/g2_delta_lr_mean_template.png') # Can be many different formats.\n",
    "    pix2 = im2.load() # Load the template image that will appear in the final mpeg\n",
    "    \n",
    "    for i in range(-half_width,half_width-1): # Loop through x and y coordinates\n",
    "        for j in range(-half_height,half_height-1):\n",
    "            radius_var = math.sqrt(i*i + j*j) # Calculate distance from center of image to pixel\n",
    "            x = i + half_width \n",
    "            y = j + half_height\n",
    "            x2 = x + 266 # Loops through all x and y coordinates within final circular region\n",
    "            y2 = y + 54\n",
    "            \n",
    "            if radius_var < half_height: # Check if the pixel is within the radius of the circular region of radius half_height\n",
    "                final_i = x # Extract the RGBA values for each pixel within the circular region\n",
    "                final_j = y\n",
    "    \n",
    "                if final_i > width-1:\n",
    "                    final_i = width-1\n",
    "                if final_j > width-1:\n",
    "                    final_j = width-1\n",
    "                \n",
    "                pix2[x2,y2] = pix[final_i,final_j] # Copy the RGBA value of the original image onto the template\n",
    "                \n",
    "    i_start = 249 + round(inc * 660/15400) # Identify x-value starting place of vertical line on template\n",
    "    \n",
    "    for i in range(i_start, i_start+2): # Loop through width of line\n",
    "        for j in range(760,939): # Loop through height of line for the first graph\n",
    "            pix2[i,j] = 0,0,0,255 # Make pixels in width and height range black \n",
    "        for j in range(990,1164): # Loop through height of line for the second graph (below first graph)\n",
    "            pix2[i,j] = 0,0,0,255\n",
    "    inc += 1\n",
    "    # Save the modified template as .png\n",
    "    im2.save('C:/Users/anjal/Downloads/create_mpeg_from_image_sequence/create_mpeg_from_image_sequence/25x25simple/circles_subtract_min_norm/' + filename) "
   ]
  },
  {
   "cell_type": "markdown",
   "metadata": {},
   "source": [
    "Finally the set of final images must be converted to an mpeg file using imageio"
   ]
  },
  {
   "cell_type": "code",
   "execution_count": null,
   "metadata": {},
   "outputs": [],
   "source": [
    "imageio.plugins.ffmpeg.download() # Download the necessary plugin from the imageio module\n",
    "images = [] # Create empty images list\n",
    "\n",
    "# Access the directory in which the final images are found\n",
    "dir = 'C:/Users/anjal/Downloads/create_mpeg_from_image_sequence/create_mpeg_from_image_sequence/25x25simple/circles_subtract_min_norm/'\n",
    "\n",
    "filenames = next(os.walk(dir))[2] # Create a variable that can be traversed for each filename (or image) in dir\n",
    "for filename in filenames: # Traverse through the final images\n",
    "    file_input = dir + filename #Identify the location of the final image\n",
    "    images.append(imageio.imread(file_input)) # Add each final image file to the images list\n",
    "    \n",
    "imageio.mimsave('C:/Users/anjal/Downloads/create_mpeg_from_image_sequence/create_mpeg_from_image_sequence/25x25simple/movies/25x25_subtract_min_norm.mp4', images)\n",
    "# Convert the images list into an mpeg file and save it "
   ]
  },
  {
   "cell_type": "code",
   "execution_count": null,
   "metadata": {},
   "outputs": [],
   "source": []
  }
 ],
 "metadata": {
  "kernelspec": {
   "display_name": "Python 3",
   "language": "python",
   "name": "python3"
  },
  "language_info": {
   "codemirror_mode": {
    "name": "ipython",
    "version": 3
   },
   "file_extension": ".py",
   "mimetype": "text/x-python",
   "name": "python",
   "nbconvert_exporter": "python",
   "pygments_lexer": "ipython3",
   "version": "3.7.3"
  }
 },
 "nbformat": 4,
 "nbformat_minor": 2
}
